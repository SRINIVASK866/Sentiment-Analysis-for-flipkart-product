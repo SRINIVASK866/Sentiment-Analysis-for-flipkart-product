{
  "nbformat": 4,
  "nbformat_minor": 0,
  "metadata": {
    "colab": {
      "provenance": []
    },
    "kernelspec": {
      "name": "python3",
      "display_name": "Python 3"
    },
    "language_info": {
      "name": "python"
    },
    "widgets": {
      "application/vnd.jupyter.widget-state+json": {
        "c5ac2e0166a341e4a7dcb2653b230456": {
          "model_module": "@jupyter-widgets/output",
          "model_name": "OutputModel",
          "model_module_version": "1.0.0",
          "state": {
            "_dom_classes": [],
            "_model_module": "@jupyter-widgets/output",
            "_model_module_version": "1.0.0",
            "_model_name": "OutputModel",
            "_view_count": null,
            "_view_module": "@jupyter-widgets/output",
            "_view_module_version": "1.0.0",
            "_view_name": "OutputView",
            "layout": "IPY_MODEL_541870f7741e4395b4ac33deb0f87062",
            "msg_id": "",
            "outputs": [
              {
                "output_type": "display_data",
                "data": {
                  "text/plain": "\u001b[32m⠏\u001b[0m Waiting for authorization\n",
                  "text/html": "<pre style=\"white-space:pre;overflow-x:auto;line-height:normal;font-family:Menlo,'DejaVu Sans Mono',consolas,'Courier New',monospace\"><span style=\"color: #008000; text-decoration-color: #008000\">⠏</span> Waiting for authorization\n</pre>\n"
                },
                "metadata": {}
              }
            ]
          }
        },
        "541870f7741e4395b4ac33deb0f87062": {
          "model_module": "@jupyter-widgets/base",
          "model_name": "LayoutModel",
          "model_module_version": "1.2.0",
          "state": {
            "_model_module": "@jupyter-widgets/base",
            "_model_module_version": "1.2.0",
            "_model_name": "LayoutModel",
            "_view_count": null,
            "_view_module": "@jupyter-widgets/base",
            "_view_module_version": "1.2.0",
            "_view_name": "LayoutView",
            "align_content": null,
            "align_items": null,
            "align_self": null,
            "border": null,
            "bottom": null,
            "display": null,
            "flex": null,
            "flex_flow": null,
            "grid_area": null,
            "grid_auto_columns": null,
            "grid_auto_flow": null,
            "grid_auto_rows": null,
            "grid_column": null,
            "grid_gap": null,
            "grid_row": null,
            "grid_template_areas": null,
            "grid_template_columns": null,
            "grid_template_rows": null,
            "height": null,
            "justify_content": null,
            "justify_items": null,
            "left": null,
            "margin": null,
            "max_height": null,
            "max_width": null,
            "min_height": null,
            "min_width": null,
            "object_fit": null,
            "object_position": null,
            "order": null,
            "overflow": null,
            "overflow_x": null,
            "overflow_y": null,
            "padding": null,
            "right": null,
            "top": null,
            "visibility": null,
            "width": null
          }
        }
      }
    }
  },
  "cells": [
    {
      "cell_type": "code",
      "execution_count": 1,
      "metadata": {
        "colab": {
          "base_uri": "https://localhost:8080/"
        },
        "id": "PtVtFok1nDFf",
        "outputId": "f1257684-9c44-459f-9220-0345c6a6b177"
      },
      "outputs": [
        {
          "output_type": "stream",
          "name": "stdout",
          "text": [
            "\u001b[2K     \u001b[90m━━━━━━━━━━━━━━━━━━━━━━━━━━━━━━━━━━━━━━━━\u001b[0m \u001b[32m20.2/20.2 MB\u001b[0m \u001b[31m30.4 MB/s\u001b[0m eta \u001b[36m0:00:00\u001b[0m\n",
            "\u001b[2K     \u001b[90m━━━━━━━━━━━━━━━━━━━━━━━━━━━━━━━━━━━━━━━━\u001b[0m \u001b[32m228.2/228.2 kB\u001b[0m \u001b[31m24.6 MB/s\u001b[0m eta \u001b[36m0:00:00\u001b[0m\n",
            "\u001b[2K     \u001b[90m━━━━━━━━━━━━━━━━━━━━━━━━━━━━━━━━━━━━━━━━\u001b[0m \u001b[32m233.4/233.4 kB\u001b[0m \u001b[31m25.9 MB/s\u001b[0m eta \u001b[36m0:00:00\u001b[0m\n",
            "\u001b[2K     \u001b[90m━━━━━━━━━━━━━━━━━━━━━━━━━━━━━━━━━━━━━━━━\u001b[0m \u001b[32m147.6/147.6 kB\u001b[0m \u001b[31m17.6 MB/s\u001b[0m eta \u001b[36m0:00:00\u001b[0m\n",
            "\u001b[2K     \u001b[90m━━━━━━━━━━━━━━━━━━━━━━━━━━━━━━━━━━━━━━━━\u001b[0m \u001b[32m207.3/207.3 kB\u001b[0m \u001b[31m19.4 MB/s\u001b[0m eta \u001b[36m0:00:00\u001b[0m\n",
            "\u001b[2K     \u001b[90m━━━━━━━━━━━━━━━━━━━━━━━━━━━━━━━━━━━━━━━━\u001b[0m \u001b[32m128.2/128.2 kB\u001b[0m \u001b[31m16.3 MB/s\u001b[0m eta \u001b[36m0:00:00\u001b[0m\n",
            "\u001b[2K     \u001b[90m━━━━━━━━━━━━━━━━━━━━━━━━━━━━━━━━━━━━━━━━\u001b[0m \u001b[32m80.2/80.2 kB\u001b[0m \u001b[31m9.6 MB/s\u001b[0m eta \u001b[36m0:00:00\u001b[0m\n",
            "\u001b[?25h  Preparing metadata (setup.py) ... \u001b[?25l\u001b[?25hdone\n",
            "\u001b[2K     \u001b[90m━━━━━━━━━━━━━━━━━━━━━━━━━━━━━━━━━━━━━━━━\u001b[0m \u001b[32m71.5/71.5 kB\u001b[0m \u001b[31m9.2 MB/s\u001b[0m eta \u001b[36m0:00:00\u001b[0m\n",
            "\u001b[2K     \u001b[90m━━━━━━━━━━━━━━━━━━━━━━━━━━━━━━━━━━━━━━━━\u001b[0m \u001b[32m238.4/238.4 kB\u001b[0m \u001b[31m24.4 MB/s\u001b[0m eta \u001b[36m0:00:00\u001b[0m\n",
            "\u001b[2K     \u001b[90m━━━━━━━━━━━━━━━━━━━━━━━━━━━━━━━━━━━━━━━━\u001b[0m \u001b[32m74.0/74.0 kB\u001b[0m \u001b[31m8.9 MB/s\u001b[0m eta \u001b[36m0:00:00\u001b[0m\n",
            "\u001b[2K     \u001b[90m━━━━━━━━━━━━━━━━━━━━━━━━━━━━━━━━━━━━━━━━\u001b[0m \u001b[32m139.3/139.3 kB\u001b[0m \u001b[31m17.8 MB/s\u001b[0m eta \u001b[36m0:00:00\u001b[0m\n",
            "\u001b[2K     \u001b[90m━━━━━━━━━━━━━━━━━━━━━━━━━━━━━━━━━━━━━━━━\u001b[0m \u001b[32m78.8/78.8 kB\u001b[0m \u001b[31m9.6 MB/s\u001b[0m eta \u001b[36m0:00:00\u001b[0m\n",
            "\u001b[2K     \u001b[90m━━━━━━━━━━━━━━━━━━━━━━━━━━━━━━━━━━━━━━━━\u001b[0m \u001b[32m62.7/62.7 kB\u001b[0m \u001b[31m7.3 MB/s\u001b[0m eta \u001b[36m0:00:00\u001b[0m\n",
            "\u001b[2K     \u001b[90m━━━━━━━━━━━━━━━━━━━━━━━━━━━━━━━━━━━━━━━━\u001b[0m \u001b[32m202.9/202.9 kB\u001b[0m \u001b[31m25.1 MB/s\u001b[0m eta \u001b[36m0:00:00\u001b[0m\n",
            "\u001b[2K     \u001b[90m━━━━━━━━━━━━━━━━━━━━━━━━━━━━━━━━━━━━━━━━\u001b[0m \u001b[32m52.8/52.8 kB\u001b[0m \u001b[31m6.1 MB/s\u001b[0m eta \u001b[36m0:00:00\u001b[0m\n",
            "\u001b[2K     \u001b[90m━━━━━━━━━━━━━━━━━━━━━━━━━━━━━━━━━━━━━━━━\u001b[0m \u001b[32m69.6/69.6 kB\u001b[0m \u001b[31m6.4 MB/s\u001b[0m eta \u001b[36m0:00:00\u001b[0m\n",
            "\u001b[2K     \u001b[90m━━━━━━━━━━━━━━━━━━━━━━━━━━━━━━━━━━━━━━━━\u001b[0m \u001b[32m51.1/51.1 kB\u001b[0m \u001b[31m5.9 MB/s\u001b[0m eta \u001b[36m0:00:00\u001b[0m\n",
            "\u001b[2K     \u001b[90m━━━━━━━━━━━━━━━━━━━━━━━━━━━━━━━━━━━━━━━━\u001b[0m \u001b[32m12.2/12.2 MB\u001b[0m \u001b[31m70.1 MB/s\u001b[0m eta \u001b[36m0:00:00\u001b[0m\n",
            "\u001b[2K     \u001b[90m━━━━━━━━━━━━━━━━━━━━━━━━━━━━━━━━━━━━━━━━\u001b[0m \u001b[32m82.2/82.2 kB\u001b[0m \u001b[31m10.3 MB/s\u001b[0m eta \u001b[36m0:00:00\u001b[0m\n",
            "\u001b[2K     \u001b[90m━━━━━━━━━━━━━━━━━━━━━━━━━━━━━━━━━━━━━━━━\u001b[0m \u001b[32m49.4/49.4 kB\u001b[0m \u001b[31m6.4 MB/s\u001b[0m eta \u001b[36m0:00:00\u001b[0m\n",
            "\u001b[2K     \u001b[90m━━━━━━━━━━━━━━━━━━━━━━━━━━━━━━━━━━━━━━━━\u001b[0m \u001b[32m54.5/54.5 kB\u001b[0m \u001b[31m6.5 MB/s\u001b[0m eta \u001b[36m0:00:00\u001b[0m\n",
            "\u001b[2K     \u001b[90m━━━━━━━━━━━━━━━━━━━━━━━━━━━━━━━━━━━━━━━━\u001b[0m \u001b[32m58.3/58.3 kB\u001b[0m \u001b[31m7.2 MB/s\u001b[0m eta \u001b[36m0:00:00\u001b[0m\n",
            "\u001b[?25h  Building wheel for fusepy (setup.py) ... \u001b[?25l\u001b[?25hdone\n"
          ]
        }
      ],
      "source": [
        "!pip install mlflow dagshub --quiet"
      ]
    },
    {
      "cell_type": "code",
      "source": [
        "import numpy as np\n",
        "import pandas as pd\n",
        "\n",
        "import matplotlib.pyplot as plt\n",
        "import seaborn as sns"
      ],
      "metadata": {
        "id": "9Ytjnpeaq3h4"
      },
      "execution_count": 2,
      "outputs": []
    },
    {
      "cell_type": "code",
      "source": [
        "df = pd.read_csv(\"/content/data.csv\")"
      ],
      "metadata": {
        "id": "OGz_x5-6q3k0"
      },
      "execution_count": 3,
      "outputs": []
    },
    {
      "cell_type": "code",
      "source": [
        "df.head()"
      ],
      "metadata": {
        "colab": {
          "base_uri": "https://localhost:8080/",
          "height": 310
        },
        "id": "qyqnVQkxq3nf",
        "outputId": "e7c60c18-98af-4df6-c6e0-66b491fdb564"
      },
      "execution_count": 4,
      "outputs": [
        {
          "output_type": "execute_result",
          "data": {
            "text/plain": [
              "            Reviewer Name               Review Title  \\\n",
              "0            Kamal Suresh               Nice product   \n",
              "1       Flipkart Customer     Don't waste your money   \n",
              "2  A. S. Raja Srinivasan   Did not meet expectations   \n",
              "3     Suresh Narayanasamy                       Fair   \n",
              "4               ASHIK P A                Over priced   \n",
              "\n",
              "               Place of Review  Up Votes  Down Votes     Month  \\\n",
              "0   Certified Buyer, Chirakkal     889.0        64.0  Feb 2021   \n",
              "1   Certified Buyer, Hyderabad     109.0         6.0  Feb 2021   \n",
              "2  Certified Buyer, Dharmapuri      42.0         3.0  Apr 2021   \n",
              "3     Certified Buyer, Chennai      25.0         1.0       NaN   \n",
              "4                          NaN     147.0        24.0  Apr 2016   \n",
              "\n",
              "                                         Review text  Ratings  \n",
              "0  Nice product, good quality, but price is now r...        4  \n",
              "1  They didn't supplied Yonex Mavis 350. Outside ...        1  \n",
              "2  Worst product. Damaged shuttlecocks packed in ...        1  \n",
              "3  Quite O. K. , but nowadays  the quality of the...        3  \n",
              "4  Over pricedJust â?¹620 ..from retailer.I didn'...        1  "
            ],
            "text/html": [
              "\n",
              "  <div id=\"df-0563b767-e573-4221-9365-b05b2499b414\" class=\"colab-df-container\">\n",
              "    <div>\n",
              "<style scoped>\n",
              "    .dataframe tbody tr th:only-of-type {\n",
              "        vertical-align: middle;\n",
              "    }\n",
              "\n",
              "    .dataframe tbody tr th {\n",
              "        vertical-align: top;\n",
              "    }\n",
              "\n",
              "    .dataframe thead th {\n",
              "        text-align: right;\n",
              "    }\n",
              "</style>\n",
              "<table border=\"1\" class=\"dataframe\">\n",
              "  <thead>\n",
              "    <tr style=\"text-align: right;\">\n",
              "      <th></th>\n",
              "      <th>Reviewer Name</th>\n",
              "      <th>Review Title</th>\n",
              "      <th>Place of Review</th>\n",
              "      <th>Up Votes</th>\n",
              "      <th>Down Votes</th>\n",
              "      <th>Month</th>\n",
              "      <th>Review text</th>\n",
              "      <th>Ratings</th>\n",
              "    </tr>\n",
              "  </thead>\n",
              "  <tbody>\n",
              "    <tr>\n",
              "      <th>0</th>\n",
              "      <td>Kamal Suresh</td>\n",
              "      <td>Nice product</td>\n",
              "      <td>Certified Buyer, Chirakkal</td>\n",
              "      <td>889.0</td>\n",
              "      <td>64.0</td>\n",
              "      <td>Feb 2021</td>\n",
              "      <td>Nice product, good quality, but price is now r...</td>\n",
              "      <td>4</td>\n",
              "    </tr>\n",
              "    <tr>\n",
              "      <th>1</th>\n",
              "      <td>Flipkart Customer</td>\n",
              "      <td>Don't waste your money</td>\n",
              "      <td>Certified Buyer, Hyderabad</td>\n",
              "      <td>109.0</td>\n",
              "      <td>6.0</td>\n",
              "      <td>Feb 2021</td>\n",
              "      <td>They didn't supplied Yonex Mavis 350. Outside ...</td>\n",
              "      <td>1</td>\n",
              "    </tr>\n",
              "    <tr>\n",
              "      <th>2</th>\n",
              "      <td>A. S. Raja Srinivasan</td>\n",
              "      <td>Did not meet expectations</td>\n",
              "      <td>Certified Buyer, Dharmapuri</td>\n",
              "      <td>42.0</td>\n",
              "      <td>3.0</td>\n",
              "      <td>Apr 2021</td>\n",
              "      <td>Worst product. Damaged shuttlecocks packed in ...</td>\n",
              "      <td>1</td>\n",
              "    </tr>\n",
              "    <tr>\n",
              "      <th>3</th>\n",
              "      <td>Suresh Narayanasamy</td>\n",
              "      <td>Fair</td>\n",
              "      <td>Certified Buyer, Chennai</td>\n",
              "      <td>25.0</td>\n",
              "      <td>1.0</td>\n",
              "      <td>NaN</td>\n",
              "      <td>Quite O. K. , but nowadays  the quality of the...</td>\n",
              "      <td>3</td>\n",
              "    </tr>\n",
              "    <tr>\n",
              "      <th>4</th>\n",
              "      <td>ASHIK P A</td>\n",
              "      <td>Over priced</td>\n",
              "      <td>NaN</td>\n",
              "      <td>147.0</td>\n",
              "      <td>24.0</td>\n",
              "      <td>Apr 2016</td>\n",
              "      <td>Over pricedJust â?¹620 ..from retailer.I didn'...</td>\n",
              "      <td>1</td>\n",
              "    </tr>\n",
              "  </tbody>\n",
              "</table>\n",
              "</div>\n",
              "    <div class=\"colab-df-buttons\">\n",
              "\n",
              "  <div class=\"colab-df-container\">\n",
              "    <button class=\"colab-df-convert\" onclick=\"convertToInteractive('df-0563b767-e573-4221-9365-b05b2499b414')\"\n",
              "            title=\"Convert this dataframe to an interactive table.\"\n",
              "            style=\"display:none;\">\n",
              "\n",
              "  <svg xmlns=\"http://www.w3.org/2000/svg\" height=\"24px\" viewBox=\"0 -960 960 960\">\n",
              "    <path d=\"M120-120v-720h720v720H120Zm60-500h600v-160H180v160Zm220 220h160v-160H400v160Zm0 220h160v-160H400v160ZM180-400h160v-160H180v160Zm440 0h160v-160H620v160ZM180-180h160v-160H180v160Zm440 0h160v-160H620v160Z\"/>\n",
              "  </svg>\n",
              "    </button>\n",
              "\n",
              "  <style>\n",
              "    .colab-df-container {\n",
              "      display:flex;\n",
              "      gap: 12px;\n",
              "    }\n",
              "\n",
              "    .colab-df-convert {\n",
              "      background-color: #E8F0FE;\n",
              "      border: none;\n",
              "      border-radius: 50%;\n",
              "      cursor: pointer;\n",
              "      display: none;\n",
              "      fill: #1967D2;\n",
              "      height: 32px;\n",
              "      padding: 0 0 0 0;\n",
              "      width: 32px;\n",
              "    }\n",
              "\n",
              "    .colab-df-convert:hover {\n",
              "      background-color: #E2EBFA;\n",
              "      box-shadow: 0px 1px 2px rgba(60, 64, 67, 0.3), 0px 1px 3px 1px rgba(60, 64, 67, 0.15);\n",
              "      fill: #174EA6;\n",
              "    }\n",
              "\n",
              "    .colab-df-buttons div {\n",
              "      margin-bottom: 4px;\n",
              "    }\n",
              "\n",
              "    [theme=dark] .colab-df-convert {\n",
              "      background-color: #3B4455;\n",
              "      fill: #D2E3FC;\n",
              "    }\n",
              "\n",
              "    [theme=dark] .colab-df-convert:hover {\n",
              "      background-color: #434B5C;\n",
              "      box-shadow: 0px 1px 3px 1px rgba(0, 0, 0, 0.15);\n",
              "      filter: drop-shadow(0px 1px 2px rgba(0, 0, 0, 0.3));\n",
              "      fill: #FFFFFF;\n",
              "    }\n",
              "  </style>\n",
              "\n",
              "    <script>\n",
              "      const buttonEl =\n",
              "        document.querySelector('#df-0563b767-e573-4221-9365-b05b2499b414 button.colab-df-convert');\n",
              "      buttonEl.style.display =\n",
              "        google.colab.kernel.accessAllowed ? 'block' : 'none';\n",
              "\n",
              "      async function convertToInteractive(key) {\n",
              "        const element = document.querySelector('#df-0563b767-e573-4221-9365-b05b2499b414');\n",
              "        const dataTable =\n",
              "          await google.colab.kernel.invokeFunction('convertToInteractive',\n",
              "                                                    [key], {});\n",
              "        if (!dataTable) return;\n",
              "\n",
              "        const docLinkHtml = 'Like what you see? Visit the ' +\n",
              "          '<a target=\"_blank\" href=https://colab.research.google.com/notebooks/data_table.ipynb>data table notebook</a>'\n",
              "          + ' to learn more about interactive tables.';\n",
              "        element.innerHTML = '';\n",
              "        dataTable['output_type'] = 'display_data';\n",
              "        await google.colab.output.renderOutput(dataTable, element);\n",
              "        const docLink = document.createElement('div');\n",
              "        docLink.innerHTML = docLinkHtml;\n",
              "        element.appendChild(docLink);\n",
              "      }\n",
              "    </script>\n",
              "  </div>\n",
              "\n",
              "\n",
              "<div id=\"df-f80b286d-fc18-4a42-a724-487459d40c20\">\n",
              "  <button class=\"colab-df-quickchart\" onclick=\"quickchart('df-f80b286d-fc18-4a42-a724-487459d40c20')\"\n",
              "            title=\"Suggest charts\"\n",
              "            style=\"display:none;\">\n",
              "\n",
              "<svg xmlns=\"http://www.w3.org/2000/svg\" height=\"24px\"viewBox=\"0 0 24 24\"\n",
              "     width=\"24px\">\n",
              "    <g>\n",
              "        <path d=\"M19 3H5c-1.1 0-2 .9-2 2v14c0 1.1.9 2 2 2h14c1.1 0 2-.9 2-2V5c0-1.1-.9-2-2-2zM9 17H7v-7h2v7zm4 0h-2V7h2v10zm4 0h-2v-4h2v4z\"/>\n",
              "    </g>\n",
              "</svg>\n",
              "  </button>\n",
              "\n",
              "<style>\n",
              "  .colab-df-quickchart {\n",
              "      --bg-color: #E8F0FE;\n",
              "      --fill-color: #1967D2;\n",
              "      --hover-bg-color: #E2EBFA;\n",
              "      --hover-fill-color: #174EA6;\n",
              "      --disabled-fill-color: #AAA;\n",
              "      --disabled-bg-color: #DDD;\n",
              "  }\n",
              "\n",
              "  [theme=dark] .colab-df-quickchart {\n",
              "      --bg-color: #3B4455;\n",
              "      --fill-color: #D2E3FC;\n",
              "      --hover-bg-color: #434B5C;\n",
              "      --hover-fill-color: #FFFFFF;\n",
              "      --disabled-bg-color: #3B4455;\n",
              "      --disabled-fill-color: #666;\n",
              "  }\n",
              "\n",
              "  .colab-df-quickchart {\n",
              "    background-color: var(--bg-color);\n",
              "    border: none;\n",
              "    border-radius: 50%;\n",
              "    cursor: pointer;\n",
              "    display: none;\n",
              "    fill: var(--fill-color);\n",
              "    height: 32px;\n",
              "    padding: 0;\n",
              "    width: 32px;\n",
              "  }\n",
              "\n",
              "  .colab-df-quickchart:hover {\n",
              "    background-color: var(--hover-bg-color);\n",
              "    box-shadow: 0 1px 2px rgba(60, 64, 67, 0.3), 0 1px 3px 1px rgba(60, 64, 67, 0.15);\n",
              "    fill: var(--button-hover-fill-color);\n",
              "  }\n",
              "\n",
              "  .colab-df-quickchart-complete:disabled,\n",
              "  .colab-df-quickchart-complete:disabled:hover {\n",
              "    background-color: var(--disabled-bg-color);\n",
              "    fill: var(--disabled-fill-color);\n",
              "    box-shadow: none;\n",
              "  }\n",
              "\n",
              "  .colab-df-spinner {\n",
              "    border: 2px solid var(--fill-color);\n",
              "    border-color: transparent;\n",
              "    border-bottom-color: var(--fill-color);\n",
              "    animation:\n",
              "      spin 1s steps(1) infinite;\n",
              "  }\n",
              "\n",
              "  @keyframes spin {\n",
              "    0% {\n",
              "      border-color: transparent;\n",
              "      border-bottom-color: var(--fill-color);\n",
              "      border-left-color: var(--fill-color);\n",
              "    }\n",
              "    20% {\n",
              "      border-color: transparent;\n",
              "      border-left-color: var(--fill-color);\n",
              "      border-top-color: var(--fill-color);\n",
              "    }\n",
              "    30% {\n",
              "      border-color: transparent;\n",
              "      border-left-color: var(--fill-color);\n",
              "      border-top-color: var(--fill-color);\n",
              "      border-right-color: var(--fill-color);\n",
              "    }\n",
              "    40% {\n",
              "      border-color: transparent;\n",
              "      border-right-color: var(--fill-color);\n",
              "      border-top-color: var(--fill-color);\n",
              "    }\n",
              "    60% {\n",
              "      border-color: transparent;\n",
              "      border-right-color: var(--fill-color);\n",
              "    }\n",
              "    80% {\n",
              "      border-color: transparent;\n",
              "      border-right-color: var(--fill-color);\n",
              "      border-bottom-color: var(--fill-color);\n",
              "    }\n",
              "    90% {\n",
              "      border-color: transparent;\n",
              "      border-bottom-color: var(--fill-color);\n",
              "    }\n",
              "  }\n",
              "</style>\n",
              "\n",
              "  <script>\n",
              "    async function quickchart(key) {\n",
              "      const quickchartButtonEl =\n",
              "        document.querySelector('#' + key + ' button');\n",
              "      quickchartButtonEl.disabled = true;  // To prevent multiple clicks.\n",
              "      quickchartButtonEl.classList.add('colab-df-spinner');\n",
              "      try {\n",
              "        const charts = await google.colab.kernel.invokeFunction(\n",
              "            'suggestCharts', [key], {});\n",
              "      } catch (error) {\n",
              "        console.error('Error during call to suggestCharts:', error);\n",
              "      }\n",
              "      quickchartButtonEl.classList.remove('colab-df-spinner');\n",
              "      quickchartButtonEl.classList.add('colab-df-quickchart-complete');\n",
              "    }\n",
              "    (() => {\n",
              "      let quickchartButtonEl =\n",
              "        document.querySelector('#df-f80b286d-fc18-4a42-a724-487459d40c20 button');\n",
              "      quickchartButtonEl.style.display =\n",
              "        google.colab.kernel.accessAllowed ? 'block' : 'none';\n",
              "    })();\n",
              "  </script>\n",
              "</div>\n",
              "\n",
              "    </div>\n",
              "  </div>\n"
            ],
            "application/vnd.google.colaboratory.intrinsic+json": {
              "type": "dataframe",
              "variable_name": "df",
              "summary": "{\n  \"name\": \"df\",\n  \"rows\": 8518,\n  \"fields\": [\n    {\n      \"column\": \"Reviewer Name\",\n      \"properties\": {\n        \"dtype\": \"string\",\n        \"num_unique_values\": 6243,\n        \"samples\": [\n          \"Pranav Dixit\",\n          \"Ankan Garai\",\n          \"Nishant  Sharma \"\n        ],\n        \"semantic_type\": \"\",\n        \"description\": \"\"\n      }\n    },\n    {\n      \"column\": \"Review Title\",\n      \"properties\": {\n        \"dtype\": \"category\",\n        \"num_unique_values\": 194,\n        \"samples\": [\n          \"Yonex Mavis 350\",\n          \"Awesome\",\n          \"original product\"\n        ],\n        \"semantic_type\": \"\",\n        \"description\": \"\"\n      }\n    },\n    {\n      \"column\": \"Place of Review\",\n      \"properties\": {\n        \"dtype\": \"category\",\n        \"num_unique_values\": 2337,\n        \"samples\": [\n          \"Certified Buyer, Sagar District\",\n          \"Certified Buyer, Jamui\",\n          \"Certified Buyer, Nasrullaganj\"\n        ],\n        \"semantic_type\": \"\",\n        \"description\": \"\"\n      }\n    },\n    {\n      \"column\": \"Up Votes\",\n      \"properties\": {\n        \"dtype\": \"number\",\n        \"std\": 11.613908852344201,\n        \"min\": 0.0,\n        \"max\": 889.0,\n        \"num_unique_values\": 37,\n        \"samples\": [\n          5.0,\n          22.0,\n          147.0\n        ],\n        \"semantic_type\": \"\",\n        \"description\": \"\"\n      }\n    },\n    {\n      \"column\": \"Down Votes\",\n      \"properties\": {\n        \"dtype\": \"number\",\n        \"std\": 3.2480220421370043,\n        \"min\": 0.0,\n        \"max\": 219.0,\n        \"num_unique_values\": 25,\n        \"samples\": [\n          12.0,\n          10.0,\n          64.0\n        ],\n        \"semantic_type\": \"\",\n        \"description\": \"\"\n      }\n    },\n    {\n      \"column\": \"Month\",\n      \"properties\": {\n        \"dtype\": \"object\",\n        \"num_unique_values\": 80,\n        \"samples\": [\n          \"Aug 2021\",\n          \"Feb 2021\",\n          \"Jan 2021\"\n        ],\n        \"semantic_type\": \"\",\n        \"description\": \"\"\n      }\n    },\n    {\n      \"column\": \"Review text\",\n      \"properties\": {\n        \"dtype\": \"string\",\n        \"num_unique_values\": 4983,\n        \"samples\": [\n          \"The product i received was not good.READ MORE\",\n          \"Not good at all this is the worst product I have bought at flipkartREAD MORE\",\n          \"the shuttles are not good and the quality is also not goodREAD MORE\"\n        ],\n        \"semantic_type\": \"\",\n        \"description\": \"\"\n      }\n    },\n    {\n      \"column\": \"Ratings\",\n      \"properties\": {\n        \"dtype\": \"number\",\n        \"std\": 1,\n        \"min\": 1,\n        \"max\": 5,\n        \"num_unique_values\": 5,\n        \"samples\": [\n          1,\n          2,\n          3\n        ],\n        \"semantic_type\": \"\",\n        \"description\": \"\"\n      }\n    }\n  ]\n}"
            }
          },
          "metadata": {},
          "execution_count": 4
        }
      ]
    },
    {
      "cell_type": "code",
      "source": [
        "df.shape"
      ],
      "metadata": {
        "colab": {
          "base_uri": "https://localhost:8080/"
        },
        "id": "yFyUW7hAq3r_",
        "outputId": "504916e9-cd5d-40ee-eeb0-14ef3d52f56c"
      },
      "execution_count": 5,
      "outputs": [
        {
          "output_type": "execute_result",
          "data": {
            "text/plain": [
              "(8518, 8)"
            ]
          },
          "metadata": {},
          "execution_count": 5
        }
      ]
    },
    {
      "cell_type": "code",
      "source": [
        "df.info()"
      ],
      "metadata": {
        "colab": {
          "base_uri": "https://localhost:8080/"
        },
        "id": "I2VdTvbAq3u_",
        "outputId": "bc929705-8ab4-4fcc-a04c-185521c001a3"
      },
      "execution_count": 6,
      "outputs": [
        {
          "output_type": "stream",
          "name": "stdout",
          "text": [
            "<class 'pandas.core.frame.DataFrame'>\n",
            "RangeIndex: 8518 entries, 0 to 8517\n",
            "Data columns (total 8 columns):\n",
            " #   Column           Non-Null Count  Dtype  \n",
            "---  ------           --------------  -----  \n",
            " 0   Reviewer Name    8508 non-null   object \n",
            " 1   Review Title     8508 non-null   object \n",
            " 2   Place of Review  8468 non-null   object \n",
            " 3   Up Votes         8508 non-null   float64\n",
            " 4   Down Votes       8508 non-null   float64\n",
            " 5   Month            8053 non-null   object \n",
            " 6   Review text      8510 non-null   object \n",
            " 7   Ratings          8518 non-null   int64  \n",
            "dtypes: float64(2), int64(1), object(5)\n",
            "memory usage: 532.5+ KB\n"
          ]
        }
      ]
    },
    {
      "cell_type": "code",
      "source": [
        "df.columns = df.columns.str.strip()\n",
        "df.columns"
      ],
      "metadata": {
        "colab": {
          "base_uri": "https://localhost:8080/"
        },
        "id": "g0HfpOWrq3xr",
        "outputId": "35f3940c-b382-44c1-8681-e4f48d240d78"
      },
      "execution_count": 7,
      "outputs": [
        {
          "output_type": "execute_result",
          "data": {
            "text/plain": [
              "Index(['Reviewer Name', 'Review Title', 'Place of Review', 'Up Votes',\n",
              "       'Down Votes', 'Month', 'Review text', 'Ratings'],\n",
              "      dtype='object')"
            ]
          },
          "metadata": {},
          "execution_count": 7
        }
      ]
    },
    {
      "cell_type": "code",
      "source": [
        "df.isnull().sum().sort_values(ascending = False)"
      ],
      "metadata": {
        "colab": {
          "base_uri": "https://localhost:8080/"
        },
        "id": "vPNvt3oAro7D",
        "outputId": "3a164a0a-7d61-43f7-a082-01b01c4d8ce9"
      },
      "execution_count": 8,
      "outputs": [
        {
          "output_type": "execute_result",
          "data": {
            "text/plain": [
              "Month              465\n",
              "Place of Review     50\n",
              "Reviewer Name       10\n",
              "Review Title        10\n",
              "Up Votes            10\n",
              "Down Votes          10\n",
              "Review text          8\n",
              "Ratings              0\n",
              "dtype: int64"
            ]
          },
          "metadata": {},
          "execution_count": 8
        }
      ]
    },
    {
      "cell_type": "code",
      "source": [
        "df1=df.dropna()"
      ],
      "metadata": {
        "id": "ldmLJfEiro9o"
      },
      "execution_count": 9,
      "outputs": []
    },
    {
      "cell_type": "code",
      "source": [
        "df1.isnull().sum().sort_values(ascending = False)"
      ],
      "metadata": {
        "colab": {
          "base_uri": "https://localhost:8080/"
        },
        "id": "xq-D-ME5rpCE",
        "outputId": "152d2f5f-608f-420b-f0da-4c4d369b2433"
      },
      "execution_count": 10,
      "outputs": [
        {
          "output_type": "execute_result",
          "data": {
            "text/plain": [
              "Reviewer Name      0\n",
              "Review Title       0\n",
              "Place of Review    0\n",
              "Up Votes           0\n",
              "Down Votes         0\n",
              "Month              0\n",
              "Review text        0\n",
              "Ratings            0\n",
              "dtype: int64"
            ]
          },
          "metadata": {},
          "execution_count": 10
        }
      ]
    },
    {
      "cell_type": "code",
      "source": [
        "df1.info()"
      ],
      "metadata": {
        "colab": {
          "base_uri": "https://localhost:8080/"
        },
        "id": "Rwt8wf9lrpGe",
        "outputId": "9bf0c836-5150-412f-fed0-51415492b5f3"
      },
      "execution_count": 11,
      "outputs": [
        {
          "output_type": "stream",
          "name": "stdout",
          "text": [
            "<class 'pandas.core.frame.DataFrame'>\n",
            "Index: 8013 entries, 0 to 8507\n",
            "Data columns (total 8 columns):\n",
            " #   Column           Non-Null Count  Dtype  \n",
            "---  ------           --------------  -----  \n",
            " 0   Reviewer Name    8013 non-null   object \n",
            " 1   Review Title     8013 non-null   object \n",
            " 2   Place of Review  8013 non-null   object \n",
            " 3   Up Votes         8013 non-null   float64\n",
            " 4   Down Votes       8013 non-null   float64\n",
            " 5   Month            8013 non-null   object \n",
            " 6   Review text      8013 non-null   object \n",
            " 7   Ratings          8013 non-null   int64  \n",
            "dtypes: float64(2), int64(1), object(5)\n",
            "memory usage: 563.4+ KB\n"
          ]
        }
      ]
    },
    {
      "cell_type": "code",
      "source": [
        "thresholud_rating = 3\n",
        "def map_rating_to_sentiment(rating):\n",
        "    if rating > thresholud_rating:\n",
        "        return 'positive'\n",
        "    elif rating == thresholud_rating:\n",
        "        return 'neutral'\n",
        "    else:\n",
        "        return 'negative'"
      ],
      "metadata": {
        "id": "zKCafvY3rpLI"
      },
      "execution_count": 12,
      "outputs": []
    },
    {
      "cell_type": "code",
      "source": [
        "df1['sentiment'] = df1['Ratings'].apply(map_rating_to_sentiment)"
      ],
      "metadata": {
        "colab": {
          "base_uri": "https://localhost:8080/"
        },
        "id": "0XB6HOe1rpOS",
        "outputId": "63fe99d4-dd2f-42a3-9b16-ff05f37f95bd"
      },
      "execution_count": 13,
      "outputs": [
        {
          "output_type": "stream",
          "name": "stderr",
          "text": [
            "<ipython-input-13-db0ccbeb370b>:1: SettingWithCopyWarning: \n",
            "A value is trying to be set on a copy of a slice from a DataFrame.\n",
            "Try using .loc[row_indexer,col_indexer] = value instead\n",
            "\n",
            "See the caveats in the documentation: https://pandas.pydata.org/pandas-docs/stable/user_guide/indexing.html#returning-a-view-versus-a-copy\n",
            "  df1['sentiment'] = df1['Ratings'].apply(map_rating_to_sentiment)\n"
          ]
        }
      ]
    },
    {
      "cell_type": "code",
      "source": [
        "df1.head(15)"
      ],
      "metadata": {
        "colab": {
          "base_uri": "https://localhost:8080/",
          "height": 797
        },
        "id": "WqXdbyPLrpQ6",
        "outputId": "4fd8dbf2-6ae8-480f-b526-55339a66cc0c"
      },
      "execution_count": 14,
      "outputs": [
        {
          "output_type": "execute_result",
          "data": {
            "text/plain": [
              "             Reviewer Name               Review Title  \\\n",
              "0             Kamal Suresh               Nice product   \n",
              "1        Flipkart Customer     Don't waste your money   \n",
              "2   A. S. Raja Srinivasan   Did not meet expectations   \n",
              "5              Baji Sankar      Mind-blowing purchase   \n",
              "6        Flipkart Customer                  Must buy!   \n",
              "7        Flipkart Customer             Classy product   \n",
              "8           Jafar  Qureshi              Great product   \n",
              "9                 Bheemesh                  Just wow!   \n",
              "10              ABBCD Zggg                  Just wow!   \n",
              "11        Sadashivu Shetty          Terrific purchase   \n",
              "12              Abhishek m          Worth every penny   \n",
              "13                Hashim A  Did not meet expectations   \n",
              "14           Karan Dattani          Worth every penny   \n",
              "15             Divya Mohan                  Brilliant   \n",
              "16                Harish R    I think it is duplicate   \n",
              "\n",
              "                     Place of Review  Up Votes  Down Votes     Month  \\\n",
              "0         Certified Buyer, Chirakkal     889.0        64.0  Feb 2021   \n",
              "1         Certified Buyer, Hyderabad     109.0         6.0  Feb 2021   \n",
              "2        Certified Buyer, Dharmapuri      42.0         3.0  Apr 2021   \n",
              "5         Certified Buyer, Hyderabad     173.0        45.0  Oct 2018   \n",
              "6        Certified Buyer, Doom Dooma     403.0       121.0  Jan 2020   \n",
              "7            Certified Buyer, Panjim      59.0        13.0  Oct 2018   \n",
              "8           Certified Buyer, Sheopur      14.0         1.0  Aug 2018   \n",
              "9           Certified Buyer, Kurnool      50.0        12.0  May 2018   \n",
              "10  Certified Buyer, Channarayapatna      57.0        16.0  Jun 2020   \n",
              "11        Certified Buyer, Mangalore     146.0        52.0  Sep 2016   \n",
              "12       Certified Buyer, Chengannur     142.0        53.0  Jun 2018   \n",
              "13           Certified Buyer, Panoor      22.0         5.0  Mar 2021   \n",
              "14           Certified Buyer, Mumbai      23.0         6.0  Mar 2019   \n",
              "15        Certified Buyer, Darbhanga      71.0        29.0  Oct 2016   \n",
              "16        Certified Buyer, Bangalore      81.0        35.0  Feb 2018   \n",
              "\n",
              "                                          Review text  Ratings sentiment  \n",
              "0   Nice product, good quality, but price is now r...        4  positive  \n",
              "1   They didn't supplied Yonex Mavis 350. Outside ...        1  negative  \n",
              "2   Worst product. Damaged shuttlecocks packed in ...        1  negative  \n",
              "5   Good quality product. Delivered on time.READ MORE        5  positive  \n",
              "6   BEST PURCHASE It is a good quality and is more...        5  positive  \n",
              "7            Good quality original shuttles.READ MORE        5  positive  \n",
              "8                                    AwesomeREAD MORE        5  positive  \n",
              "9                     nice original productsREAD MORE        5  positive  \n",
              "10  This GREEN CAP SHUTTLECOCK is really AWESOME. ...        5  positive  \n",
              "11                         Best in class....READ MORE        5  positive  \n",
              "12  it's genuine and price is less than our near b...        5  positive  \n",
              "13  This is the second time i am getting an opened...        1  negative  \n",
              "14  really satisfied with the quality and the prom...        5  positive  \n",
              "15                                       NycREAD MORE        5  positive  \n",
              "16  I usually buy them the same model but this did...        1  negative  "
            ],
            "text/html": [
              "\n",
              "  <div id=\"df-296fb60d-75c2-4fe9-9160-c733218d2ffe\" class=\"colab-df-container\">\n",
              "    <div>\n",
              "<style scoped>\n",
              "    .dataframe tbody tr th:only-of-type {\n",
              "        vertical-align: middle;\n",
              "    }\n",
              "\n",
              "    .dataframe tbody tr th {\n",
              "        vertical-align: top;\n",
              "    }\n",
              "\n",
              "    .dataframe thead th {\n",
              "        text-align: right;\n",
              "    }\n",
              "</style>\n",
              "<table border=\"1\" class=\"dataframe\">\n",
              "  <thead>\n",
              "    <tr style=\"text-align: right;\">\n",
              "      <th></th>\n",
              "      <th>Reviewer Name</th>\n",
              "      <th>Review Title</th>\n",
              "      <th>Place of Review</th>\n",
              "      <th>Up Votes</th>\n",
              "      <th>Down Votes</th>\n",
              "      <th>Month</th>\n",
              "      <th>Review text</th>\n",
              "      <th>Ratings</th>\n",
              "      <th>sentiment</th>\n",
              "    </tr>\n",
              "  </thead>\n",
              "  <tbody>\n",
              "    <tr>\n",
              "      <th>0</th>\n",
              "      <td>Kamal Suresh</td>\n",
              "      <td>Nice product</td>\n",
              "      <td>Certified Buyer, Chirakkal</td>\n",
              "      <td>889.0</td>\n",
              "      <td>64.0</td>\n",
              "      <td>Feb 2021</td>\n",
              "      <td>Nice product, good quality, but price is now r...</td>\n",
              "      <td>4</td>\n",
              "      <td>positive</td>\n",
              "    </tr>\n",
              "    <tr>\n",
              "      <th>1</th>\n",
              "      <td>Flipkart Customer</td>\n",
              "      <td>Don't waste your money</td>\n",
              "      <td>Certified Buyer, Hyderabad</td>\n",
              "      <td>109.0</td>\n",
              "      <td>6.0</td>\n",
              "      <td>Feb 2021</td>\n",
              "      <td>They didn't supplied Yonex Mavis 350. Outside ...</td>\n",
              "      <td>1</td>\n",
              "      <td>negative</td>\n",
              "    </tr>\n",
              "    <tr>\n",
              "      <th>2</th>\n",
              "      <td>A. S. Raja Srinivasan</td>\n",
              "      <td>Did not meet expectations</td>\n",
              "      <td>Certified Buyer, Dharmapuri</td>\n",
              "      <td>42.0</td>\n",
              "      <td>3.0</td>\n",
              "      <td>Apr 2021</td>\n",
              "      <td>Worst product. Damaged shuttlecocks packed in ...</td>\n",
              "      <td>1</td>\n",
              "      <td>negative</td>\n",
              "    </tr>\n",
              "    <tr>\n",
              "      <th>5</th>\n",
              "      <td>Baji Sankar</td>\n",
              "      <td>Mind-blowing purchase</td>\n",
              "      <td>Certified Buyer, Hyderabad</td>\n",
              "      <td>173.0</td>\n",
              "      <td>45.0</td>\n",
              "      <td>Oct 2018</td>\n",
              "      <td>Good quality product. Delivered on time.READ MORE</td>\n",
              "      <td>5</td>\n",
              "      <td>positive</td>\n",
              "    </tr>\n",
              "    <tr>\n",
              "      <th>6</th>\n",
              "      <td>Flipkart Customer</td>\n",
              "      <td>Must buy!</td>\n",
              "      <td>Certified Buyer, Doom Dooma</td>\n",
              "      <td>403.0</td>\n",
              "      <td>121.0</td>\n",
              "      <td>Jan 2020</td>\n",
              "      <td>BEST PURCHASE It is a good quality and is more...</td>\n",
              "      <td>5</td>\n",
              "      <td>positive</td>\n",
              "    </tr>\n",
              "    <tr>\n",
              "      <th>7</th>\n",
              "      <td>Flipkart Customer</td>\n",
              "      <td>Classy product</td>\n",
              "      <td>Certified Buyer, Panjim</td>\n",
              "      <td>59.0</td>\n",
              "      <td>13.0</td>\n",
              "      <td>Oct 2018</td>\n",
              "      <td>Good quality original shuttles.READ MORE</td>\n",
              "      <td>5</td>\n",
              "      <td>positive</td>\n",
              "    </tr>\n",
              "    <tr>\n",
              "      <th>8</th>\n",
              "      <td>Jafar  Qureshi</td>\n",
              "      <td>Great product</td>\n",
              "      <td>Certified Buyer, Sheopur</td>\n",
              "      <td>14.0</td>\n",
              "      <td>1.0</td>\n",
              "      <td>Aug 2018</td>\n",
              "      <td>AwesomeREAD MORE</td>\n",
              "      <td>5</td>\n",
              "      <td>positive</td>\n",
              "    </tr>\n",
              "    <tr>\n",
              "      <th>9</th>\n",
              "      <td>Bheemesh</td>\n",
              "      <td>Just wow!</td>\n",
              "      <td>Certified Buyer, Kurnool</td>\n",
              "      <td>50.0</td>\n",
              "      <td>12.0</td>\n",
              "      <td>May 2018</td>\n",
              "      <td>nice original productsREAD MORE</td>\n",
              "      <td>5</td>\n",
              "      <td>positive</td>\n",
              "    </tr>\n",
              "    <tr>\n",
              "      <th>10</th>\n",
              "      <td>ABBCD Zggg</td>\n",
              "      <td>Just wow!</td>\n",
              "      <td>Certified Buyer, Channarayapatna</td>\n",
              "      <td>57.0</td>\n",
              "      <td>16.0</td>\n",
              "      <td>Jun 2020</td>\n",
              "      <td>This GREEN CAP SHUTTLECOCK is really AWESOME. ...</td>\n",
              "      <td>5</td>\n",
              "      <td>positive</td>\n",
              "    </tr>\n",
              "    <tr>\n",
              "      <th>11</th>\n",
              "      <td>Sadashivu Shetty</td>\n",
              "      <td>Terrific purchase</td>\n",
              "      <td>Certified Buyer, Mangalore</td>\n",
              "      <td>146.0</td>\n",
              "      <td>52.0</td>\n",
              "      <td>Sep 2016</td>\n",
              "      <td>Best in class....READ MORE</td>\n",
              "      <td>5</td>\n",
              "      <td>positive</td>\n",
              "    </tr>\n",
              "    <tr>\n",
              "      <th>12</th>\n",
              "      <td>Abhishek m</td>\n",
              "      <td>Worth every penny</td>\n",
              "      <td>Certified Buyer, Chengannur</td>\n",
              "      <td>142.0</td>\n",
              "      <td>53.0</td>\n",
              "      <td>Jun 2018</td>\n",
              "      <td>it's genuine and price is less than our near b...</td>\n",
              "      <td>5</td>\n",
              "      <td>positive</td>\n",
              "    </tr>\n",
              "    <tr>\n",
              "      <th>13</th>\n",
              "      <td>Hashim A</td>\n",
              "      <td>Did not meet expectations</td>\n",
              "      <td>Certified Buyer, Panoor</td>\n",
              "      <td>22.0</td>\n",
              "      <td>5.0</td>\n",
              "      <td>Mar 2021</td>\n",
              "      <td>This is the second time i am getting an opened...</td>\n",
              "      <td>1</td>\n",
              "      <td>negative</td>\n",
              "    </tr>\n",
              "    <tr>\n",
              "      <th>14</th>\n",
              "      <td>Karan Dattani</td>\n",
              "      <td>Worth every penny</td>\n",
              "      <td>Certified Buyer, Mumbai</td>\n",
              "      <td>23.0</td>\n",
              "      <td>6.0</td>\n",
              "      <td>Mar 2019</td>\n",
              "      <td>really satisfied with the quality and the prom...</td>\n",
              "      <td>5</td>\n",
              "      <td>positive</td>\n",
              "    </tr>\n",
              "    <tr>\n",
              "      <th>15</th>\n",
              "      <td>Divya Mohan</td>\n",
              "      <td>Brilliant</td>\n",
              "      <td>Certified Buyer, Darbhanga</td>\n",
              "      <td>71.0</td>\n",
              "      <td>29.0</td>\n",
              "      <td>Oct 2016</td>\n",
              "      <td>NycREAD MORE</td>\n",
              "      <td>5</td>\n",
              "      <td>positive</td>\n",
              "    </tr>\n",
              "    <tr>\n",
              "      <th>16</th>\n",
              "      <td>Harish R</td>\n",
              "      <td>I think it is duplicate</td>\n",
              "      <td>Certified Buyer, Bangalore</td>\n",
              "      <td>81.0</td>\n",
              "      <td>35.0</td>\n",
              "      <td>Feb 2018</td>\n",
              "      <td>I usually buy them the same model but this did...</td>\n",
              "      <td>1</td>\n",
              "      <td>negative</td>\n",
              "    </tr>\n",
              "  </tbody>\n",
              "</table>\n",
              "</div>\n",
              "    <div class=\"colab-df-buttons\">\n",
              "\n",
              "  <div class=\"colab-df-container\">\n",
              "    <button class=\"colab-df-convert\" onclick=\"convertToInteractive('df-296fb60d-75c2-4fe9-9160-c733218d2ffe')\"\n",
              "            title=\"Convert this dataframe to an interactive table.\"\n",
              "            style=\"display:none;\">\n",
              "\n",
              "  <svg xmlns=\"http://www.w3.org/2000/svg\" height=\"24px\" viewBox=\"0 -960 960 960\">\n",
              "    <path d=\"M120-120v-720h720v720H120Zm60-500h600v-160H180v160Zm220 220h160v-160H400v160Zm0 220h160v-160H400v160ZM180-400h160v-160H180v160Zm440 0h160v-160H620v160ZM180-180h160v-160H180v160Zm440 0h160v-160H620v160Z\"/>\n",
              "  </svg>\n",
              "    </button>\n",
              "\n",
              "  <style>\n",
              "    .colab-df-container {\n",
              "      display:flex;\n",
              "      gap: 12px;\n",
              "    }\n",
              "\n",
              "    .colab-df-convert {\n",
              "      background-color: #E8F0FE;\n",
              "      border: none;\n",
              "      border-radius: 50%;\n",
              "      cursor: pointer;\n",
              "      display: none;\n",
              "      fill: #1967D2;\n",
              "      height: 32px;\n",
              "      padding: 0 0 0 0;\n",
              "      width: 32px;\n",
              "    }\n",
              "\n",
              "    .colab-df-convert:hover {\n",
              "      background-color: #E2EBFA;\n",
              "      box-shadow: 0px 1px 2px rgba(60, 64, 67, 0.3), 0px 1px 3px 1px rgba(60, 64, 67, 0.15);\n",
              "      fill: #174EA6;\n",
              "    }\n",
              "\n",
              "    .colab-df-buttons div {\n",
              "      margin-bottom: 4px;\n",
              "    }\n",
              "\n",
              "    [theme=dark] .colab-df-convert {\n",
              "      background-color: #3B4455;\n",
              "      fill: #D2E3FC;\n",
              "    }\n",
              "\n",
              "    [theme=dark] .colab-df-convert:hover {\n",
              "      background-color: #434B5C;\n",
              "      box-shadow: 0px 1px 3px 1px rgba(0, 0, 0, 0.15);\n",
              "      filter: drop-shadow(0px 1px 2px rgba(0, 0, 0, 0.3));\n",
              "      fill: #FFFFFF;\n",
              "    }\n",
              "  </style>\n",
              "\n",
              "    <script>\n",
              "      const buttonEl =\n",
              "        document.querySelector('#df-296fb60d-75c2-4fe9-9160-c733218d2ffe button.colab-df-convert');\n",
              "      buttonEl.style.display =\n",
              "        google.colab.kernel.accessAllowed ? 'block' : 'none';\n",
              "\n",
              "      async function convertToInteractive(key) {\n",
              "        const element = document.querySelector('#df-296fb60d-75c2-4fe9-9160-c733218d2ffe');\n",
              "        const dataTable =\n",
              "          await google.colab.kernel.invokeFunction('convertToInteractive',\n",
              "                                                    [key], {});\n",
              "        if (!dataTable) return;\n",
              "\n",
              "        const docLinkHtml = 'Like what you see? Visit the ' +\n",
              "          '<a target=\"_blank\" href=https://colab.research.google.com/notebooks/data_table.ipynb>data table notebook</a>'\n",
              "          + ' to learn more about interactive tables.';\n",
              "        element.innerHTML = '';\n",
              "        dataTable['output_type'] = 'display_data';\n",
              "        await google.colab.output.renderOutput(dataTable, element);\n",
              "        const docLink = document.createElement('div');\n",
              "        docLink.innerHTML = docLinkHtml;\n",
              "        element.appendChild(docLink);\n",
              "      }\n",
              "    </script>\n",
              "  </div>\n",
              "\n",
              "\n",
              "<div id=\"df-9c77039d-b9d7-40ef-b82a-7ed19782101f\">\n",
              "  <button class=\"colab-df-quickchart\" onclick=\"quickchart('df-9c77039d-b9d7-40ef-b82a-7ed19782101f')\"\n",
              "            title=\"Suggest charts\"\n",
              "            style=\"display:none;\">\n",
              "\n",
              "<svg xmlns=\"http://www.w3.org/2000/svg\" height=\"24px\"viewBox=\"0 0 24 24\"\n",
              "     width=\"24px\">\n",
              "    <g>\n",
              "        <path d=\"M19 3H5c-1.1 0-2 .9-2 2v14c0 1.1.9 2 2 2h14c1.1 0 2-.9 2-2V5c0-1.1-.9-2-2-2zM9 17H7v-7h2v7zm4 0h-2V7h2v10zm4 0h-2v-4h2v4z\"/>\n",
              "    </g>\n",
              "</svg>\n",
              "  </button>\n",
              "\n",
              "<style>\n",
              "  .colab-df-quickchart {\n",
              "      --bg-color: #E8F0FE;\n",
              "      --fill-color: #1967D2;\n",
              "      --hover-bg-color: #E2EBFA;\n",
              "      --hover-fill-color: #174EA6;\n",
              "      --disabled-fill-color: #AAA;\n",
              "      --disabled-bg-color: #DDD;\n",
              "  }\n",
              "\n",
              "  [theme=dark] .colab-df-quickchart {\n",
              "      --bg-color: #3B4455;\n",
              "      --fill-color: #D2E3FC;\n",
              "      --hover-bg-color: #434B5C;\n",
              "      --hover-fill-color: #FFFFFF;\n",
              "      --disabled-bg-color: #3B4455;\n",
              "      --disabled-fill-color: #666;\n",
              "  }\n",
              "\n",
              "  .colab-df-quickchart {\n",
              "    background-color: var(--bg-color);\n",
              "    border: none;\n",
              "    border-radius: 50%;\n",
              "    cursor: pointer;\n",
              "    display: none;\n",
              "    fill: var(--fill-color);\n",
              "    height: 32px;\n",
              "    padding: 0;\n",
              "    width: 32px;\n",
              "  }\n",
              "\n",
              "  .colab-df-quickchart:hover {\n",
              "    background-color: var(--hover-bg-color);\n",
              "    box-shadow: 0 1px 2px rgba(60, 64, 67, 0.3), 0 1px 3px 1px rgba(60, 64, 67, 0.15);\n",
              "    fill: var(--button-hover-fill-color);\n",
              "  }\n",
              "\n",
              "  .colab-df-quickchart-complete:disabled,\n",
              "  .colab-df-quickchart-complete:disabled:hover {\n",
              "    background-color: var(--disabled-bg-color);\n",
              "    fill: var(--disabled-fill-color);\n",
              "    box-shadow: none;\n",
              "  }\n",
              "\n",
              "  .colab-df-spinner {\n",
              "    border: 2px solid var(--fill-color);\n",
              "    border-color: transparent;\n",
              "    border-bottom-color: var(--fill-color);\n",
              "    animation:\n",
              "      spin 1s steps(1) infinite;\n",
              "  }\n",
              "\n",
              "  @keyframes spin {\n",
              "    0% {\n",
              "      border-color: transparent;\n",
              "      border-bottom-color: var(--fill-color);\n",
              "      border-left-color: var(--fill-color);\n",
              "    }\n",
              "    20% {\n",
              "      border-color: transparent;\n",
              "      border-left-color: var(--fill-color);\n",
              "      border-top-color: var(--fill-color);\n",
              "    }\n",
              "    30% {\n",
              "      border-color: transparent;\n",
              "      border-left-color: var(--fill-color);\n",
              "      border-top-color: var(--fill-color);\n",
              "      border-right-color: var(--fill-color);\n",
              "    }\n",
              "    40% {\n",
              "      border-color: transparent;\n",
              "      border-right-color: var(--fill-color);\n",
              "      border-top-color: var(--fill-color);\n",
              "    }\n",
              "    60% {\n",
              "      border-color: transparent;\n",
              "      border-right-color: var(--fill-color);\n",
              "    }\n",
              "    80% {\n",
              "      border-color: transparent;\n",
              "      border-right-color: var(--fill-color);\n",
              "      border-bottom-color: var(--fill-color);\n",
              "    }\n",
              "    90% {\n",
              "      border-color: transparent;\n",
              "      border-bottom-color: var(--fill-color);\n",
              "    }\n",
              "  }\n",
              "</style>\n",
              "\n",
              "  <script>\n",
              "    async function quickchart(key) {\n",
              "      const quickchartButtonEl =\n",
              "        document.querySelector('#' + key + ' button');\n",
              "      quickchartButtonEl.disabled = true;  // To prevent multiple clicks.\n",
              "      quickchartButtonEl.classList.add('colab-df-spinner');\n",
              "      try {\n",
              "        const charts = await google.colab.kernel.invokeFunction(\n",
              "            'suggestCharts', [key], {});\n",
              "      } catch (error) {\n",
              "        console.error('Error during call to suggestCharts:', error);\n",
              "      }\n",
              "      quickchartButtonEl.classList.remove('colab-df-spinner');\n",
              "      quickchartButtonEl.classList.add('colab-df-quickchart-complete');\n",
              "    }\n",
              "    (() => {\n",
              "      let quickchartButtonEl =\n",
              "        document.querySelector('#df-9c77039d-b9d7-40ef-b82a-7ed19782101f button');\n",
              "      quickchartButtonEl.style.display =\n",
              "        google.colab.kernel.accessAllowed ? 'block' : 'none';\n",
              "    })();\n",
              "  </script>\n",
              "</div>\n",
              "\n",
              "    </div>\n",
              "  </div>\n"
            ],
            "application/vnd.google.colaboratory.intrinsic+json": {
              "type": "dataframe",
              "variable_name": "df1",
              "summary": "{\n  \"name\": \"df1\",\n  \"rows\": 8013,\n  \"fields\": [\n    {\n      \"column\": \"Reviewer Name\",\n      \"properties\": {\n        \"dtype\": \"string\",\n        \"num_unique_values\": 5903,\n        \"samples\": [\n          \"Sandeep Varma\",\n          \"ANAS M A\",\n          \"samresh kumar Parmar\"\n        ],\n        \"semantic_type\": \"\",\n        \"description\": \"\"\n      }\n    },\n    {\n      \"column\": \"Review Title\",\n      \"properties\": {\n        \"dtype\": \"category\",\n        \"num_unique_values\": 185,\n        \"samples\": [\n          \"Good choice\",\n          \"Hated it!\",\n          \"Shuttle yonex\"\n        ],\n        \"semantic_type\": \"\",\n        \"description\": \"\"\n      }\n    },\n    {\n      \"column\": \"Place of Review\",\n      \"properties\": {\n        \"dtype\": \"category\",\n        \"num_unique_values\": 2262,\n        \"samples\": [\n          \"Certified Buyer, Kangeyam\",\n          \"Certified Buyer, Rewari District\",\n          \"Certified Buyer, Tripunithura\"\n        ],\n        \"semantic_type\": \"\",\n        \"description\": \"\"\n      }\n    },\n    {\n      \"column\": \"Up Votes\",\n      \"properties\": {\n        \"dtype\": \"number\",\n        \"std\": 11.849649268168621,\n        \"min\": 0.0,\n        \"max\": 889.0,\n        \"num_unique_values\": 34,\n        \"samples\": [\n          5.0,\n          4.0,\n          8.0\n        ],\n        \"semantic_type\": \"\",\n        \"description\": \"\"\n      }\n    },\n    {\n      \"column\": \"Down Votes\",\n      \"properties\": {\n        \"dtype\": \"number\",\n        \"std\": 3.334320038479875,\n        \"min\": 0.0,\n        \"max\": 219.0,\n        \"num_unique_values\": 23,\n        \"samples\": [\n          10.0,\n          52.0,\n          64.0\n        ],\n        \"semantic_type\": \"\",\n        \"description\": \"\"\n      }\n    },\n    {\n      \"column\": \"Month\",\n      \"properties\": {\n        \"dtype\": \"object\",\n        \"num_unique_values\": 77,\n        \"samples\": [\n          \"Aug 2018\",\n          \"Jun 2019\",\n          \"Mar 2019\"\n        ],\n        \"semantic_type\": \"\",\n        \"description\": \"\"\n      }\n    },\n    {\n      \"column\": \"Review text\",\n      \"properties\": {\n        \"dtype\": \"string\",\n        \"num_unique_values\": 4740,\n        \"samples\": [\n          \"Perfect for indoorsREAD MORE\",\n          \"Superb packing... Keep it upREAD MORE\",\n          \"Delivered on time and delivery executive is so Pro active. He delivered to security when he sensed am in the meeting .. thanks to such guysREAD MORE\"\n        ],\n        \"semantic_type\": \"\",\n        \"description\": \"\"\n      }\n    },\n    {\n      \"column\": \"Ratings\",\n      \"properties\": {\n        \"dtype\": \"number\",\n        \"std\": 1,\n        \"min\": 1,\n        \"max\": 5,\n        \"num_unique_values\": 5,\n        \"samples\": [\n          1,\n          3,\n          5\n        ],\n        \"semantic_type\": \"\",\n        \"description\": \"\"\n      }\n    },\n    {\n      \"column\": \"sentiment\",\n      \"properties\": {\n        \"dtype\": \"category\",\n        \"num_unique_values\": 3,\n        \"samples\": [\n          \"positive\",\n          \"negative\",\n          \"neutral\"\n        ],\n        \"semantic_type\": \"\",\n        \"description\": \"\"\n      }\n    }\n  ]\n}"
            }
          },
          "metadata": {},
          "execution_count": 14
        }
      ]
    },
    {
      "cell_type": "code",
      "source": [
        "y = df1['sentiment']\n",
        "X = df1[['Review text']]"
      ],
      "metadata": {
        "id": "l2qrPveSsDvt"
      },
      "execution_count": 15,
      "outputs": []
    },
    {
      "cell_type": "code",
      "source": [
        "from sklearn.model_selection import train_test_split\n",
        "\n",
        "X_train, X_test, y_train, y_test = train_test_split(X, y, test_size=0.2, random_state=42)"
      ],
      "metadata": {
        "id": "Ff3PNX86sDyx"
      },
      "execution_count": 16,
      "outputs": []
    },
    {
      "cell_type": "code",
      "source": [
        "import re\n",
        "import nltk\n",
        "from nltk.tokenize import word_tokenize\n",
        "from nltk.corpus import stopwords\n",
        "from nltk.stem.porter import PorterStemmer\n",
        "from nltk.stem import WordNetLemmatizer"
      ],
      "metadata": {
        "id": "getfMpIBsD1U"
      },
      "execution_count": 17,
      "outputs": []
    },
    {
      "cell_type": "code",
      "source": [
        "stemmer = PorterStemmer()\n",
        "lemmatizer = WordNetLemmatizer()"
      ],
      "metadata": {
        "id": "M7y0HkhOsD3c"
      },
      "execution_count": 18,
      "outputs": []
    },
    {
      "cell_type": "code",
      "source": [
        "nltk.download('stopwords')\n",
        "nltk.download('wordnet')"
      ],
      "metadata": {
        "colab": {
          "base_uri": "https://localhost:8080/"
        },
        "id": "XHzCpIqzsD7P",
        "outputId": "cdd00cb0-cc4e-497f-aeb0-5d7faef5de44"
      },
      "execution_count": 19,
      "outputs": [
        {
          "output_type": "stream",
          "name": "stderr",
          "text": [
            "[nltk_data] Downloading package stopwords to /root/nltk_data...\n",
            "[nltk_data]   Unzipping corpora/stopwords.zip.\n",
            "[nltk_data] Downloading package wordnet to /root/nltk_data...\n"
          ]
        },
        {
          "output_type": "execute_result",
          "data": {
            "text/plain": [
              "True"
            ]
          },
          "metadata": {},
          "execution_count": 19
        }
      ]
    },
    {
      "cell_type": "code",
      "source": [
        "def preprocess(data):\n",
        "\n",
        "    # removes special characters\n",
        "    sentence = re.sub(\"[^a-zA-Z]\",\" \",data)\n",
        "\n",
        "    # converts words to lowercase\n",
        "    sentence = sentence.lower()\n",
        "\n",
        "    # tokenization\n",
        "    sentence = sentence.split()\n",
        "\n",
        "    #removes the stop words\n",
        "    sentence = [word for word in sentence if word not in stopwords.words('english')]\n",
        "\n",
        "    # applying lemmatization\n",
        "    sentence = [lemmatizer.lemmatize(word) for word in sentence]\n",
        "\n",
        "    sentence=  \" \".join(sentence)\n",
        "\n",
        "    return sentence"
      ],
      "metadata": {
        "id": "8M2hLA3-sD9y"
      },
      "execution_count": 20,
      "outputs": []
    },
    {
      "cell_type": "code",
      "source": [
        "X_train= X_train['Review text'].apply(preprocess)"
      ],
      "metadata": {
        "id": "WS9EFqxBsEAf"
      },
      "execution_count": 21,
      "outputs": []
    },
    {
      "cell_type": "code",
      "source": [
        "X_test = X_test['Review text'].apply(preprocess)"
      ],
      "metadata": {
        "id": "TKLuyw32sEEN"
      },
      "execution_count": 22,
      "outputs": []
    },
    {
      "cell_type": "code",
      "source": [
        "import dagshub\n",
        "dagshub.init(repo_owner='skesana866', repo_name='flipkart_reviews', mlflow=True)"
      ],
      "metadata": {
        "colab": {
          "base_uri": "https://localhost:8080/",
          "height": 192,
          "referenced_widgets": [
            "c5ac2e0166a341e4a7dcb2653b230456",
            "541870f7741e4395b4ac33deb0f87062"
          ]
        },
        "id": "V2kXWUUKsEHr",
        "outputId": "12f6fc84-61dd-4c3f-8df5-6377486f33ec"
      },
      "execution_count": 23,
      "outputs": [
        {
          "output_type": "display_data",
          "data": {
            "text/plain": [
              "                                       \u001b[1m❗❗❗ AUTHORIZATION REQUIRED ❗❗❗\u001b[0m                                        \n"
            ],
            "text/html": [
              "<pre style=\"white-space:pre;overflow-x:auto;line-height:normal;font-family:Menlo,'DejaVu Sans Mono',consolas,'Courier New',monospace\">                                       <span style=\"font-weight: bold\">❗❗❗ AUTHORIZATION REQUIRED ❗❗❗</span>                                        \n",
              "</pre>\n"
            ]
          },
          "metadata": {}
        },
        {
          "output_type": "display_data",
          "data": {
            "text/plain": [
              "Output()"
            ],
            "application/vnd.jupyter.widget-view+json": {
              "version_major": 2,
              "version_minor": 0,
              "model_id": "c5ac2e0166a341e4a7dcb2653b230456"
            }
          },
          "metadata": {}
        },
        {
          "output_type": "stream",
          "name": "stdout",
          "text": [
            "\n",
            "\n",
            "Open the following link in your browser to authorize the client:\n",
            "https://dagshub.com/login/oauth/authorize?state=b5431d33-845c-40e1-87f1-9d586f18d742&client_id=32b60ba385aa7cecf24046d8195a71c07dd345d9657977863b52e7748e0f0f28&middleman_request_id=909cb56a6ec91ce0f1eb725e3694e9a16a6da0652b9a1f34f4534543273c7151\n",
            "\n",
            "\n"
          ]
        },
        {
          "output_type": "display_data",
          "data": {
            "text/plain": [],
            "text/html": [
              "<pre style=\"white-space:pre;overflow-x:auto;line-height:normal;font-family:Menlo,'DejaVu Sans Mono',consolas,'Courier New',monospace\"></pre>\n"
            ]
          },
          "metadata": {}
        },
        {
          "output_type": "display_data",
          "data": {
            "text/plain": [
              "Initialized MLflow to track repo \u001b[32m\"skesana866/flipkart_reviews\"\u001b[0m\n"
            ],
            "text/html": [
              "<pre style=\"white-space:pre;overflow-x:auto;line-height:normal;font-family:Menlo,'DejaVu Sans Mono',consolas,'Courier New',monospace\">Initialized MLflow to track repo <span style=\"color: #008000; text-decoration-color: #008000\">\"skesana866/flipkart_reviews\"</span>\n",
              "</pre>\n"
            ]
          },
          "metadata": {}
        },
        {
          "output_type": "display_data",
          "data": {
            "text/plain": [
              "Repository skesana866/flipkart_reviews initialized!\n"
            ],
            "text/html": [
              "<pre style=\"white-space:pre;overflow-x:auto;line-height:normal;font-family:Menlo,'DejaVu Sans Mono',consolas,'Courier New',monospace\">Repository skesana866/flipkart_reviews initialized!\n",
              "</pre>\n"
            ]
          },
          "metadata": {}
        }
      ]
    },
    {
      "cell_type": "code",
      "source": [
        "import mlflow\n",
        "\n",
        "mlflow.set_experiment(\"sentiment analysis\")"
      ],
      "metadata": {
        "colab": {
          "base_uri": "https://localhost:8080/"
        },
        "id": "OxtaS-lzsEK0",
        "outputId": "7626b6b2-cf59-4455-d184-14fe333c2271"
      },
      "execution_count": 24,
      "outputs": [
        {
          "output_type": "stream",
          "name": "stderr",
          "text": [
            "2024/04/26 04:41:53 INFO mlflow.tracking.fluent: Experiment with name 'sentiment analysis' does not exist. Creating a new experiment.\n"
          ]
        },
        {
          "output_type": "execute_result",
          "data": {
            "text/plain": [
              "<Experiment: artifact_location='mlflow-artifacts:/a9c276b0f0064d6a8ce3c6face36b23f', creation_time=1714106514369, experiment_id='0', last_update_time=1714106514369, lifecycle_stage='active', name='sentiment analysis', tags={}>"
            ]
          },
          "metadata": {},
          "execution_count": 24
        }
      ]
    },
    {
      "cell_type": "code",
      "source": [
        "from sklearn.model_selection import train_test_split\n",
        "\n",
        "from sklearn.preprocessing import StandardScaler, MinMaxScaler, MaxAbsScaler\n",
        "\n",
        "from sklearn.neighbors import KNeighborsClassifier\n",
        "from sklearn.svm import SVC\n",
        "from sklearn.linear_model import LogisticRegression\n",
        "from sklearn.ensemble import RandomForestClassifier\n",
        "from sklearn.tree import DecisionTreeClassifier\n",
        "from sklearn.naive_bayes import MultinomialNB\n",
        "\n",
        "from sklearn.model_selection import GridSearchCV\n",
        "\n",
        "from sklearn.pipeline import Pipeline\n",
        "from joblib import Memory\n",
        "from sklearn.feature_extraction.text import CountVectorizer, TfidfVectorizer"
      ],
      "metadata": {
        "id": "JwEVjAw_u-RB"
      },
      "execution_count": 35,
      "outputs": []
    },
    {
      "cell_type": "code",
      "source": [
        "import warnings\n",
        "\n",
        "warnings.filterwarnings('ignore')"
      ],
      "metadata": {
        "id": "BkRwhkJwvNio"
      },
      "execution_count": 31,
      "outputs": []
    },
    {
      "cell_type": "code",
      "source": [
        "# Define a memory object to cache intermediate results\n",
        "cachedir = '.cache'\n",
        "memory = Memory(location=cachedir, verbose=0)\n",
        "\n",
        "pipelines = {\n",
        "    'naive_bayes': Pipeline([\n",
        "        ('vectorization', CountVectorizer()),\n",
        "        ('classifier', MultinomialNB())\n",
        "    ], memory=memory),\n",
        "    'decision_tree': Pipeline([\n",
        "        ('vectorization', CountVectorizer()),\n",
        "        ('classifier', DecisionTreeClassifier())\n",
        "    ], memory=memory),\n",
        "    'logistic_regression': Pipeline([\n",
        "        ('vectorization', CountVectorizer()),\n",
        "        ('classifier', LogisticRegression())\n",
        "    ], memory=memory)\n",
        "}\n",
        "\n",
        "# Define parameter grid for each algorithm\n",
        "param_grids = {\n",
        "    'naive_bayes': [\n",
        "        {\n",
        "            'vectorization': [CountVectorizer()],\n",
        "            'vectorization__max_features' : [1000, 1500, 2000, 5000],\n",
        "            'classifier__alpha' : [1, 10]\n",
        "        }\n",
        "    ],\n",
        "    'decision_tree': [\n",
        "        {\n",
        "            'vectorization': [CountVectorizer(), TfidfVectorizer()],\n",
        "            'vectorization__max_features' : [1000, 1500, 2000, 5000],\n",
        "            'classifier__max_depth': [None, 5, 10]\n",
        "        }\n",
        "    ],\n",
        "    'logistic_regression': [\n",
        "        {\n",
        "            'vectorization': [CountVectorizer(), TfidfVectorizer()],\n",
        "            'vectorization__max_features' : [1000, 1500, 2000, 5000],\n",
        "            'classifier__C': [0.1, 1, 10],\n",
        "            'classifier__penalty': ['elasticnet'],\n",
        "            'classifier__l1_ratio': [0.4, 0.5, 0.6],\n",
        "            'classifier__solver': ['saga'],\n",
        "            'classifier__class_weight': ['balanced']\n",
        "        }\n",
        "    ]\n",
        "}\n",
        "\n",
        "# Define parameter grid for each algorithm\n",
        "param_grids = {\n",
        "    'naive_bayes': [\n",
        "        {\n",
        "            'vectorization': [CountVectorizer()],\n",
        "            'vectorization__max_features' : [1000, 1500, 2000, 5000],\n",
        "            'classifier__alpha' : [1, 10]\n",
        "        }\n",
        "    ],\n",
        "    'decision_tree': [\n",
        "        {\n",
        "            'vectorization': [CountVectorizer(), TfidfVectorizer()],\n",
        "            'vectorization__max_features' : [1000, 1500, 2000, 5000],\n",
        "            'classifier__max_depth': [None, 5, 10]\n",
        "        }\n",
        "    ],\n",
        "    'logistic_regression': [\n",
        "        {\n",
        "            'vectorization': [CountVectorizer(), TfidfVectorizer()],\n",
        "            'vectorization__max_features' : [1000, 1500, 2000, 5000],\n",
        "            'classifier__C': [0.1, 1, 10],\n",
        "            'classifier__penalty': ['elasticnet'],\n",
        "            'classifier__l1_ratio': [0.4, 0.5, 0.6],\n",
        "            'classifier__solver': ['saga'],\n",
        "            'classifier__class_weight': ['balanced']\n",
        "        }\n",
        "    ]\n",
        "}\n"
      ],
      "metadata": {
        "id": "KetDb8M-sEQa"
      },
      "execution_count": 36,
      "outputs": []
    },
    {
      "cell_type": "code",
      "source": [
        "best_models = {}\n",
        "\n",
        "# Run the Pipeline\n",
        "for algo in pipelines.keys():\n",
        "    print(\"*\"*10, algo, \"*\"*10)\n",
        "    grid_search = GridSearchCV(estimator=pipelines[algo],\n",
        "                               param_grid=param_grids[algo],\n",
        "                               cv=5,\n",
        "                               scoring='accuracy',\n",
        "                               return_train_score=True,\n",
        "                               verbose=1\n",
        "                              )\n",
        "\n",
        "    mlflow.sklearn.autolog(max_tuning_runs=None)\n",
        "\n",
        "    with mlflow.start_run() as run:\n",
        "        %time grid_search.fit(X_train, y_train)\n",
        "\n",
        "    print('Train Score: ', grid_search.best_score_)\n",
        "    print('Test Score: ', grid_search.score(X_test, y_test))\n",
        "\n",
        "    best_models[algo] = grid_search.best_estimator_\n",
        "    print()"
      ],
      "metadata": {
        "colab": {
          "base_uri": "https://localhost:8080/"
        },
        "id": "AVoU2IJrq30h",
        "outputId": "712cb4aa-9414-478a-b00b-f2ad4144cfce"
      },
      "execution_count": 37,
      "outputs": [
        {
          "output_type": "stream",
          "name": "stdout",
          "text": [
            "********** naive_bayes **********\n"
          ]
        },
        {
          "output_type": "stream",
          "name": "stderr",
          "text": [
            "WARNING:urllib3.connectionpool:Retrying (Retry(total=4, connect=5, read=4, redirect=5, status=5)) after connection broken by 'RemoteDisconnected('Remote end closed connection without response')': /skesana866/flipkart_reviews.mlflow/api/2.0/mlflow/runs/create\n",
            "2024/04/26 04:56:43 WARNING mlflow.sklearn: Unrecognized dataset type <class 'pandas.core.series.Series'>. Dataset logging skipped.\n"
          ]
        },
        {
          "output_type": "stream",
          "name": "stdout",
          "text": [
            "Fitting 5 folds for each of 8 candidates, totalling 40 fits\n",
            "CPU times: user 6.26 s, sys: 530 ms, total: 6.79 s\n",
            "Wall time: 29.4 s\n",
            "Train Score:  0.8564742589703588\n",
            "Test Score:  0.8640049906425452\n",
            "\n",
            "********** decision_tree **********\n"
          ]
        },
        {
          "output_type": "stream",
          "name": "stderr",
          "text": [
            "2024/04/26 04:57:14 WARNING mlflow.sklearn: Unrecognized dataset type <class 'pandas.core.series.Series'>. Dataset logging skipped.\n"
          ]
        },
        {
          "output_type": "stream",
          "name": "stdout",
          "text": [
            "Fitting 5 folds for each of 24 candidates, totalling 120 fits\n",
            "CPU times: user 17.7 s, sys: 219 ms, total: 17.9 s\n",
            "Wall time: 44.2 s\n",
            "Train Score:  0.8455538221528862\n",
            "Test Score:  0.8465377417342483\n",
            "\n",
            "********** logistic_regression **********\n"
          ]
        },
        {
          "output_type": "stream",
          "name": "stderr",
          "text": [
            "2024/04/26 04:57:59 WARNING mlflow.sklearn: Unrecognized dataset type <class 'pandas.core.series.Series'>. Dataset logging skipped.\n"
          ]
        },
        {
          "output_type": "stream",
          "name": "stdout",
          "text": [
            "Fitting 5 folds for each of 72 candidates, totalling 360 fits\n"
          ]
        },
        {
          "output_type": "stream",
          "name": "stderr",
          "text": [
            "WARNING:urllib3.connectionpool:Retrying (Retry(total=4, connect=5, read=4, redirect=5, status=5)) after connection broken by 'RemoteDisconnected('Remote end closed connection without response')': /skesana866/flipkart_reviews.mlflow/api/2.0/mlflow/runs/get?run_uuid=c17863dc6f124f16b00ed1cf62a8ea91&run_id=c17863dc6f124f16b00ed1cf62a8ea91\n",
            "WARNING:urllib3.connectionpool:Retrying (Retry(total=4, connect=5, read=4, redirect=5, status=5)) after connection broken by 'RemoteDisconnected('Remote end closed connection without response')': /skesana866/flipkart_reviews.mlflow/api/2.0/mlflow/runs/create\n",
            "WARNING:urllib3.connectionpool:Retrying (Retry(total=4, connect=5, read=4, redirect=5, status=5)) after connection broken by 'RemoteDisconnected('Remote end closed connection without response')': /skesana866/flipkart_reviews.mlflow/api/2.0/mlflow/runs/create\n",
            "WARNING:urllib3.connectionpool:Retrying (Retry(total=4, connect=5, read=4, redirect=5, status=5)) after connection broken by 'RemoteDisconnected('Remote end closed connection without response')': /skesana866/flipkart_reviews.mlflow/api/2.0/mlflow/runs/create\n"
          ]
        },
        {
          "output_type": "stream",
          "name": "stdout",
          "text": [
            "CPU times: user 15min 43s, sys: 1.12 s, total: 15min 44s\n",
            "Wall time: 16min 55s\n",
            "Train Score:  0.745553822152886\n",
            "Test Score:  0.41734248284466624\n",
            "\n"
          ]
        }
      ]
    },
    {
      "cell_type": "code",
      "source": [
        "import time\n",
        "import joblib\n",
        "import os"
      ],
      "metadata": {
        "id": "9s9yDnkq12yk"
      },
      "execution_count": 38,
      "outputs": []
    },
    {
      "cell_type": "code",
      "source": [
        "!mlflow ui"
      ],
      "metadata": {
        "colab": {
          "base_uri": "https://localhost:8080/"
        },
        "id": "vuXiKr7g1QY_",
        "outputId": "e2ba5f73-d3e1-4b7b-bcd1-d33be8da629c"
      },
      "execution_count": 41,
      "outputs": [
        {
          "output_type": "stream",
          "name": "stdout",
          "text": [
            "[2024-04-26 05:23:23 +0000] [13526] [INFO] Starting gunicorn 21.2.0\n",
            "[2024-04-26 05:23:23 +0000] [13526] [INFO] Listening at: http://127.0.0.1:5000 (13526)\n",
            "[2024-04-26 05:23:23 +0000] [13526] [INFO] Using worker: sync\n",
            "[2024-04-26 05:23:23 +0000] [13531] [INFO] Booting worker with pid: 13531\n",
            "[2024-04-26 05:23:23 +0000] [13532] [INFO] Booting worker with pid: 13532\n",
            "[2024-04-26 05:23:23 +0000] [13533] [INFO] Booting worker with pid: 13533\n",
            "[2024-04-26 05:23:23 +0000] [13534] [INFO] Booting worker with pid: 13534\n",
            "\n",
            "Aborted!\n",
            "[2024-04-26 05:33:26 +0000] [13526] [INFO] Handling signal: int\n",
            "[2024-04-26 05:33:26 +0000] [13532] [INFO] Worker exiting (pid: 13532)\n",
            "[2024-04-26 05:33:26 +0000] [13531] [INFO] Worker exiting (pid: 13531)\n",
            "[2024-04-26 05:33:26 +0000] [13533] [INFO] Worker exiting (pid: 13533)\n",
            "[2024-04-26 05:33:26 +0000] [13534] [INFO] Worker exiting (pid: 13534)\n",
            "[2024-04-26 05:33:27 +0000] [13526] [INFO] Shutting down: Master\n"
          ]
        }
      ]
    },
    {
      "cell_type": "code",
      "source": [],
      "metadata": {
        "id": "JBn0ctYJ1QiO"
      },
      "execution_count": null,
      "outputs": []
    }
  ]
}