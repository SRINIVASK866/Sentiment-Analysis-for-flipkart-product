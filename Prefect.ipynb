{
  "nbformat": 4,
  "nbformat_minor": 0,
  "metadata": {
    "colab": {
      "provenance": []
    },
    "kernelspec": {
      "name": "python3",
      "display_name": "Python 3"
    },
    "language_info": {
      "name": "python"
    }
  },
  "cells": [
    {
      "cell_type": "code",
      "execution_count": 1,
      "metadata": {
        "id": "Ak_QNu7AuXgN"
      },
      "outputs": [],
      "source": [
        "import numpy as np\n",
        "import pandas as pd\n",
        "from sklearn.model_selection import train_test_split\n",
        "import re\n",
        "import nltk\n",
        "from nltk.tokenize import word_tokenize\n",
        "from nltk.corpus import stopwords\n",
        "from nltk.stem.porter import PorterStemmer\n",
        "from nltk.stem import WordNetLemmatizer\n",
        "from sklearn.naive_bayes import MultinomialNB\n",
        "\n",
        "from sklearn.model_selection import GridSearchCV\n",
        "\n",
        "from sklearn.pipeline import Pipeline\n",
        "from joblib import Memory\n",
        "from sklearn.feature_extraction.text import CountVectorizer, TfidfVectorizer"
      ]
    },
    {
      "cell_type": "code",
      "source": [
        "pip install prefect"
      ],
      "metadata": {
        "colab": {
          "base_uri": "https://localhost:8080/"
        },
        "id": "E_R3fIBo5gf5",
        "outputId": "28f0ef7b-380d-44f3-bec3-39c912aa119a"
      },
      "execution_count": 3,
      "outputs": [
        {
          "output_type": "stream",
          "name": "stdout",
          "text": [
            "Collecting prefect\n",
            "  Downloading prefect-2.18.1-py3-none-any.whl (5.8 MB)\n",
            "\u001b[2K     \u001b[90m━━━━━━━━━━━━━━━━━━━━━━━━━━━━━━━━━━━━━━━━\u001b[0m \u001b[32m5.8/5.8 MB\u001b[0m \u001b[31m36.5 MB/s\u001b[0m eta \u001b[36m0:00:00\u001b[0m\n",
            "\u001b[?25hCollecting aiosqlite>=0.17.0 (from prefect)\n",
            "  Downloading aiosqlite-0.20.0-py3-none-any.whl (15 kB)\n",
            "Collecting alembic<2.0.0,>=1.7.5 (from prefect)\n",
            "  Downloading alembic-1.13.1-py3-none-any.whl (233 kB)\n",
            "\u001b[2K     \u001b[90m━━━━━━━━━━━━━━━━━━━━━━━━━━━━━━━━━━━━━━━━\u001b[0m \u001b[32m233.4/233.4 kB\u001b[0m \u001b[31m22.5 MB/s\u001b[0m eta \u001b[36m0:00:00\u001b[0m\n",
            "\u001b[?25hCollecting apprise<2.0.0,>=1.1.0 (from prefect)\n",
            "  Downloading apprise-1.7.6-py3-none-any.whl (1.2 MB)\n",
            "\u001b[2K     \u001b[90m━━━━━━━━━━━━━━━━━━━━━━━━━━━━━━━━━━━━━━━━\u001b[0m \u001b[32m1.2/1.2 MB\u001b[0m \u001b[31m46.0 MB/s\u001b[0m eta \u001b[36m0:00:00\u001b[0m\n",
            "\u001b[?25hCollecting asyncpg>=0.23 (from prefect)\n",
            "  Downloading asyncpg-0.29.0-cp310-cp310-manylinux_2_17_x86_64.manylinux2014_x86_64.whl (2.7 MB)\n",
            "\u001b[2K     \u001b[90m━━━━━━━━━━━━━━━━━━━━━━━━━━━━━━━━━━━━━━━━\u001b[0m \u001b[32m2.7/2.7 MB\u001b[0m \u001b[31m46.6 MB/s\u001b[0m eta \u001b[36m0:00:00\u001b[0m\n",
            "\u001b[?25hRequirement already satisfied: click<8.2,>=8.0 in /usr/local/lib/python3.10/dist-packages (from prefect) (8.1.7)\n",
            "Requirement already satisfied: cryptography>=36.0.1 in /usr/local/lib/python3.10/dist-packages (from prefect) (42.0.5)\n",
            "Collecting dateparser<2.0.0,>=1.1.1 (from prefect)\n",
            "  Downloading dateparser-1.2.0-py2.py3-none-any.whl (294 kB)\n",
            "\u001b[2K     \u001b[90m━━━━━━━━━━━━━━━━━━━━━━━━━━━━━━━━━━━━━━━━\u001b[0m \u001b[32m295.0/295.0 kB\u001b[0m \u001b[31m22.0 MB/s\u001b[0m eta \u001b[36m0:00:00\u001b[0m\n",
            "\u001b[?25hCollecting docker<7.0,>=4.0 (from prefect)\n",
            "  Downloading docker-6.1.3-py3-none-any.whl (148 kB)\n",
            "\u001b[2K     \u001b[90m━━━━━━━━━━━━━━━━━━━━━━━━━━━━━━━━━━━━━━━━\u001b[0m \u001b[32m148.1/148.1 kB\u001b[0m \u001b[31m16.1 MB/s\u001b[0m eta \u001b[36m0:00:00\u001b[0m\n",
            "\u001b[?25hRequirement already satisfied: graphviz>=0.20.1 in /usr/local/lib/python3.10/dist-packages (from prefect) (0.20.3)\n",
            "Collecting griffe>=0.20.0 (from prefect)\n",
            "  Downloading griffe-0.44.0-py3-none-any.whl (118 kB)\n",
            "\u001b[2K     \u001b[90m━━━━━━━━━━━━━━━━━━━━━━━━━━━━━━━━━━━━━━━━\u001b[0m \u001b[32m118.7/118.7 kB\u001b[0m \u001b[31m13.5 MB/s\u001b[0m eta \u001b[36m0:00:00\u001b[0m\n",
            "\u001b[?25hRequirement already satisfied: jinja2<4.0.0,>=3.0.0 in /usr/local/lib/python3.10/dist-packages (from prefect) (3.1.3)\n",
            "Collecting jinja2-humanize-extension>=0.4.0 (from prefect)\n",
            "  Downloading jinja2_humanize_extension-0.4.0-py3-none-any.whl (4.8 kB)\n",
            "Collecting humanize>=4.9.0 (from prefect)\n",
            "  Downloading humanize-4.9.0-py3-none-any.whl (126 kB)\n",
            "\u001b[2K     \u001b[90m━━━━━━━━━━━━━━━━━━━━━━━━━━━━━━━━━━━━━━━━\u001b[0m \u001b[32m126.8/126.8 kB\u001b[0m \u001b[31m15.7 MB/s\u001b[0m eta \u001b[36m0:00:00\u001b[0m\n",
            "\u001b[?25hCollecting kubernetes<30.0.0,>=24.2.0 (from prefect)\n",
            "  Downloading kubernetes-29.0.0-py2.py3-none-any.whl (1.6 MB)\n",
            "\u001b[2K     \u001b[90m━━━━━━━━━━━━━━━━━━━━━━━━━━━━━━━━━━━━━━━━\u001b[0m \u001b[32m1.6/1.6 MB\u001b[0m \u001b[31m50.0 MB/s\u001b[0m eta \u001b[36m0:00:00\u001b[0m\n",
            "\u001b[?25hRequirement already satisfied: pytz<2025,>=2021.1 in /usr/local/lib/python3.10/dist-packages (from prefect) (2023.4)\n",
            "Collecting readchar<5.0.0,>=4.0.0 (from prefect)\n",
            "  Downloading readchar-4.0.6-py3-none-any.whl (8.5 kB)\n",
            "Requirement already satisfied: sqlalchemy[asyncio]!=1.4.33,<3.0.0,>=1.4.22 in /usr/local/lib/python3.10/dist-packages (from prefect) (2.0.29)\n",
            "Collecting typer!=0.12.2,<0.13.0,>=0.12.0 (from prefect)\n",
            "  Downloading typer-0.12.3-py3-none-any.whl (47 kB)\n",
            "\u001b[2K     \u001b[90m━━━━━━━━━━━━━━━━━━━━━━━━━━━━━━━━━━━━━━━━\u001b[0m \u001b[32m47.2/47.2 kB\u001b[0m \u001b[31m5.0 MB/s\u001b[0m eta \u001b[36m0:00:00\u001b[0m\n",
            "\u001b[?25hRequirement already satisfied: anyio<4.0.0,>=3.7.1 in /usr/local/lib/python3.10/dist-packages (from prefect) (3.7.1)\n",
            "Collecting asgi-lifespan<3.0,>=1.0 (from prefect)\n",
            "  Downloading asgi_lifespan-2.1.0-py3-none-any.whl (10 kB)\n",
            "Requirement already satisfied: cachetools<6.0,>=5.3 in /usr/local/lib/python3.10/dist-packages (from prefect) (5.3.3)\n",
            "Requirement already satisfied: cloudpickle<4.0,>=2.0 in /usr/local/lib/python3.10/dist-packages (from prefect) (2.2.1)\n",
            "Collecting coolname<3.0.0,>=1.0.4 (from prefect)\n",
            "  Downloading coolname-2.2.0-py2.py3-none-any.whl (37 kB)\n",
            "Collecting croniter<3.0.0,>=1.0.12 (from prefect)\n",
            "  Downloading croniter-2.0.5-py2.py3-none-any.whl (20 kB)\n",
            "Requirement already satisfied: fsspec>=2022.5.0 in /usr/local/lib/python3.10/dist-packages (from prefect) (2023.6.0)\n",
            "Collecting httpcore<2.0.0,>=1.0.5 (from prefect)\n",
            "  Downloading httpcore-1.0.5-py3-none-any.whl (77 kB)\n",
            "\u001b[2K     \u001b[90m━━━━━━━━━━━━━━━━━━━━━━━━━━━━━━━━━━━━━━━━\u001b[0m \u001b[32m77.9/77.9 kB\u001b[0m \u001b[31m8.1 MB/s\u001b[0m eta \u001b[36m0:00:00\u001b[0m\n",
            "\u001b[?25hCollecting httpx[http2]!=0.23.2,>=0.23 (from prefect)\n",
            "  Downloading httpx-0.27.0-py3-none-any.whl (75 kB)\n",
            "\u001b[2K     \u001b[90m━━━━━━━━━━━━━━━━━━━━━━━━━━━━━━━━━━━━━━━━\u001b[0m \u001b[32m75.6/75.6 kB\u001b[0m \u001b[31m8.7 MB/s\u001b[0m eta \u001b[36m0:00:00\u001b[0m\n",
            "\u001b[?25hCollecting importlib-resources<6.2.0,>=6.1.3 (from prefect)\n",
            "  Downloading importlib_resources-6.1.3-py3-none-any.whl (34 kB)\n",
            "Collecting jsonpatch<2.0,>=1.32 (from prefect)\n",
            "  Downloading jsonpatch-1.33-py2.py3-none-any.whl (12 kB)\n",
            "Requirement already satisfied: jsonschema<5.0.0,>=4.0.0 in /usr/local/lib/python3.10/dist-packages (from prefect) (4.19.2)\n",
            "Collecting orjson<4.0,>=3.7 (from prefect)\n",
            "  Downloading orjson-3.10.1-cp310-cp310-manylinux_2_17_x86_64.manylinux2014_x86_64.whl (141 kB)\n",
            "\u001b[2K     \u001b[90m━━━━━━━━━━━━━━━━━━━━━━━━━━━━━━━━━━━━━━━━\u001b[0m \u001b[32m141.1/141.1 kB\u001b[0m \u001b[31m15.2 MB/s\u001b[0m eta \u001b[36m0:00:00\u001b[0m\n",
            "\u001b[?25hRequirement already satisfied: packaging<24.3,>=21.3 in /usr/local/lib/python3.10/dist-packages (from prefect) (24.0)\n",
            "Collecting pathspec>=0.8.0 (from prefect)\n",
            "  Downloading pathspec-0.12.1-py3-none-any.whl (31 kB)\n",
            "Requirement already satisfied: pydantic[email]!=2.0.0,!=2.0.1,!=2.1.0,<3.0.0,>=1.10.0 in /usr/local/lib/python3.10/dist-packages (from prefect) (2.7.0)\n",
            "Requirement already satisfied: pydantic-core<3.0.0,>=2.12.0 in /usr/local/lib/python3.10/dist-packages (from prefect) (2.18.1)\n",
            "Requirement already satisfied: python-dateutil<3.0.0,>=2.8.2 in /usr/local/lib/python3.10/dist-packages (from prefect) (2.8.2)\n",
            "Requirement already satisfied: python-slugify<9.0,>=5.0 in /usr/local/lib/python3.10/dist-packages (from prefect) (8.0.4)\n",
            "Requirement already satisfied: pyyaml<7.0.0,>=5.4.1 in /usr/local/lib/python3.10/dist-packages (from prefect) (6.0.1)\n",
            "Collecting rfc3339-validator<0.2.0,>=0.1.4 (from prefect)\n",
            "  Downloading rfc3339_validator-0.1.4-py2.py3-none-any.whl (3.5 kB)\n",
            "Requirement already satisfied: rich<14.0,>=11.0 in /usr/local/lib/python3.10/dist-packages (from prefect) (13.7.1)\n",
            "Collecting ruamel.yaml>=0.17.0 (from prefect)\n",
            "  Downloading ruamel.yaml-0.18.6-py3-none-any.whl (117 kB)\n",
            "\u001b[2K     \u001b[90m━━━━━━━━━━━━━━━━━━━━━━━━━━━━━━━━━━━━━━━━\u001b[0m \u001b[32m117.8/117.8 kB\u001b[0m \u001b[31m11.2 MB/s\u001b[0m eta \u001b[36m0:00:00\u001b[0m\n",
            "\u001b[?25hRequirement already satisfied: sniffio<2.0.0,>=1.3.0 in /usr/local/lib/python3.10/dist-packages (from prefect) (1.3.1)\n",
            "Requirement already satisfied: toml>=0.10.0 in /usr/local/lib/python3.10/dist-packages (from prefect) (0.10.2)\n",
            "Requirement already satisfied: typing-extensions<5.0.0,>=4.5.0 in /usr/local/lib/python3.10/dist-packages (from prefect) (4.11.0)\n",
            "Collecting ujson<6.0.0,>=5.8.0 (from prefect)\n",
            "  Downloading ujson-5.9.0-cp310-cp310-manylinux_2_17_x86_64.manylinux2014_x86_64.whl (53 kB)\n",
            "\u001b[2K     \u001b[90m━━━━━━━━━━━━━━━━━━━━━━━━━━━━━━━━━━━━━━━━\u001b[0m \u001b[32m53.2/53.2 kB\u001b[0m \u001b[31m5.4 MB/s\u001b[0m eta \u001b[36m0:00:00\u001b[0m\n",
            "\u001b[?25hCollecting uvicorn<0.29.0,>=0.14.0 (from prefect)\n",
            "  Downloading uvicorn-0.28.1-py3-none-any.whl (60 kB)\n",
            "\u001b[2K     \u001b[90m━━━━━━━━━━━━━━━━━━━━━━━━━━━━━━━━━━━━━━━━\u001b[0m \u001b[32m60.5/60.5 kB\u001b[0m \u001b[31m5.9 MB/s\u001b[0m eta \u001b[36m0:00:00\u001b[0m\n",
            "\u001b[?25hCollecting websockets<13.0,>=10.4 (from prefect)\n",
            "  Downloading websockets-12.0-cp310-cp310-manylinux_2_5_x86_64.manylinux1_x86_64.manylinux_2_17_x86_64.manylinux2014_x86_64.whl (130 kB)\n",
            "\u001b[2K     \u001b[90m━━━━━━━━━━━━━━━━━━━━━━━━━━━━━━━━━━━━━━━━\u001b[0m \u001b[32m130.2/130.2 kB\u001b[0m \u001b[31m13.9 MB/s\u001b[0m eta \u001b[36m0:00:00\u001b[0m\n",
            "\u001b[?25hRequirement already satisfied: itsdangerous in /usr/local/lib/python3.10/dist-packages (from prefect) (2.2.0)\n",
            "Collecting python-multipart>=0.0.7 (from prefect)\n",
            "  Downloading python_multipart-0.0.9-py3-none-any.whl (22 kB)\n",
            "Collecting pendulum<3.0 (from prefect)\n",
            "  Downloading pendulum-2.1.2.tar.gz (81 kB)\n",
            "\u001b[2K     \u001b[90m━━━━━━━━━━━━━━━━━━━━━━━━━━━━━━━━━━━━━━━━\u001b[0m \u001b[32m81.2/81.2 kB\u001b[0m \u001b[31m9.1 MB/s\u001b[0m eta \u001b[36m0:00:00\u001b[0m\n",
            "\u001b[?25h  Installing build dependencies ... \u001b[?25l\u001b[?25hdone\n",
            "  Getting requirements to build wheel ... \u001b[?25l\u001b[?25hdone\n",
            "  Preparing metadata (pyproject.toml) ... \u001b[?25l\u001b[?25hdone\n",
            "Collecting Mako (from alembic<2.0.0,>=1.7.5->prefect)\n",
            "  Downloading Mako-1.3.3-py3-none-any.whl (78 kB)\n",
            "\u001b[2K     \u001b[90m━━━━━━━━━━━━━━━━━━━━━━━━━━━━━━━━━━━━━━━━\u001b[0m \u001b[32m78.8/78.8 kB\u001b[0m \u001b[31m8.0 MB/s\u001b[0m eta \u001b[36m0:00:00\u001b[0m\n",
            "\u001b[?25hRequirement already satisfied: idna>=2.8 in /usr/local/lib/python3.10/dist-packages (from anyio<4.0.0,>=3.7.1->prefect) (3.7)\n",
            "Requirement already satisfied: exceptiongroup in /usr/local/lib/python3.10/dist-packages (from anyio<4.0.0,>=3.7.1->prefect) (1.2.1)\n",
            "Requirement already satisfied: certifi in /usr/local/lib/python3.10/dist-packages (from apprise<2.0.0,>=1.1.0->prefect) (2024.2.2)\n",
            "Requirement already satisfied: requests in /usr/local/lib/python3.10/dist-packages (from apprise<2.0.0,>=1.1.0->prefect) (2.31.0)\n",
            "Requirement already satisfied: requests-oauthlib in /usr/local/lib/python3.10/dist-packages (from apprise<2.0.0,>=1.1.0->prefect) (1.3.1)\n",
            "Requirement already satisfied: markdown in /usr/local/lib/python3.10/dist-packages (from apprise<2.0.0,>=1.1.0->prefect) (3.6)\n",
            "Requirement already satisfied: async-timeout>=4.0.3 in /usr/local/lib/python3.10/dist-packages (from asyncpg>=0.23->prefect) (4.0.3)\n",
            "Requirement already satisfied: cffi>=1.12 in /usr/local/lib/python3.10/dist-packages (from cryptography>=36.0.1->prefect) (1.16.0)\n",
            "Requirement already satisfied: regex!=2019.02.19,!=2021.8.27 in /usr/local/lib/python3.10/dist-packages (from dateparser<2.0.0,>=1.1.1->prefect) (2023.12.25)\n",
            "Requirement already satisfied: tzlocal in /usr/local/lib/python3.10/dist-packages (from dateparser<2.0.0,>=1.1.1->prefect) (5.2)\n",
            "Requirement already satisfied: urllib3>=1.26.0 in /usr/local/lib/python3.10/dist-packages (from docker<7.0,>=4.0->prefect) (2.0.7)\n",
            "Requirement already satisfied: websocket-client>=0.32.0 in /usr/local/lib/python3.10/dist-packages (from docker<7.0,>=4.0->prefect) (1.7.0)\n",
            "Collecting colorama>=0.4 (from griffe>=0.20.0->prefect)\n",
            "  Downloading colorama-0.4.6-py2.py3-none-any.whl (25 kB)\n",
            "Collecting h11<0.15,>=0.13 (from httpcore<2.0.0,>=1.0.5->prefect)\n",
            "  Downloading h11-0.14.0-py3-none-any.whl (58 kB)\n",
            "\u001b[2K     \u001b[90m━━━━━━━━━━━━━━━━━━━━━━━━━━━━━━━━━━━━━━━━\u001b[0m \u001b[32m58.3/58.3 kB\u001b[0m \u001b[31m7.4 MB/s\u001b[0m eta \u001b[36m0:00:00\u001b[0m\n",
            "\u001b[?25hCollecting h2<5,>=3 (from httpx[http2]!=0.23.2,>=0.23->prefect)\n",
            "  Downloading h2-4.1.0-py3-none-any.whl (57 kB)\n",
            "\u001b[2K     \u001b[90m━━━━━━━━━━━━━━━━━━━━━━━━━━━━━━━━━━━━━━━━\u001b[0m \u001b[32m57.5/57.5 kB\u001b[0m \u001b[31m6.3 MB/s\u001b[0m eta \u001b[36m0:00:00\u001b[0m\n",
            "\u001b[?25hRequirement already satisfied: MarkupSafe>=2.0 in /usr/local/lib/python3.10/dist-packages (from jinja2<4.0.0,>=3.0.0->prefect) (2.1.5)\n",
            "Collecting jsonpointer>=1.9 (from jsonpatch<2.0,>=1.32->prefect)\n",
            "  Downloading jsonpointer-2.4-py2.py3-none-any.whl (7.8 kB)\n",
            "Requirement already satisfied: attrs>=22.2.0 in /usr/local/lib/python3.10/dist-packages (from jsonschema<5.0.0,>=4.0.0->prefect) (23.2.0)\n",
            "Requirement already satisfied: jsonschema-specifications>=2023.03.6 in /usr/local/lib/python3.10/dist-packages (from jsonschema<5.0.0,>=4.0.0->prefect) (2023.12.1)\n",
            "Requirement already satisfied: referencing>=0.28.4 in /usr/local/lib/python3.10/dist-packages (from jsonschema<5.0.0,>=4.0.0->prefect) (0.34.0)\n",
            "Requirement already satisfied: rpds-py>=0.7.1 in /usr/local/lib/python3.10/dist-packages (from jsonschema<5.0.0,>=4.0.0->prefect) (0.18.0)\n",
            "Requirement already satisfied: six>=1.9.0 in /usr/local/lib/python3.10/dist-packages (from kubernetes<30.0.0,>=24.2.0->prefect) (1.16.0)\n",
            "Requirement already satisfied: google-auth>=1.0.1 in /usr/local/lib/python3.10/dist-packages (from kubernetes<30.0.0,>=24.2.0->prefect) (2.27.0)\n",
            "Requirement already satisfied: oauthlib>=3.2.2 in /usr/local/lib/python3.10/dist-packages (from kubernetes<30.0.0,>=24.2.0->prefect) (3.2.2)\n",
            "Collecting pytzdata>=2020.1 (from pendulum<3.0->prefect)\n",
            "  Downloading pytzdata-2020.1-py2.py3-none-any.whl (489 kB)\n",
            "\u001b[2K     \u001b[90m━━━━━━━━━━━━━━━━━━━━━━━━━━━━━━━━━━━━━━━━\u001b[0m \u001b[32m490.0/490.0 kB\u001b[0m \u001b[31m40.5 MB/s\u001b[0m eta \u001b[36m0:00:00\u001b[0m\n",
            "\u001b[?25hRequirement already satisfied: annotated-types>=0.4.0 in /usr/local/lib/python3.10/dist-packages (from pydantic[email]!=2.0.0,!=2.0.1,!=2.1.0,<3.0.0,>=1.10.0->prefect) (0.6.0)\n",
            "Collecting email-validator>=2.0.0 (from pydantic[email]!=2.0.0,!=2.0.1,!=2.1.0,<3.0.0,>=1.10.0->prefect)\n",
            "  Downloading email_validator-2.1.1-py3-none-any.whl (30 kB)\n",
            "Requirement already satisfied: text-unidecode>=1.3 in /usr/local/lib/python3.10/dist-packages (from python-slugify<9.0,>=5.0->prefect) (1.3)\n",
            "Requirement already satisfied: setuptools>=41.0 in /usr/local/lib/python3.10/dist-packages (from readchar<5.0.0,>=4.0.0->prefect) (67.7.2)\n",
            "Requirement already satisfied: markdown-it-py>=2.2.0 in /usr/local/lib/python3.10/dist-packages (from rich<14.0,>=11.0->prefect) (3.0.0)\n",
            "Requirement already satisfied: pygments<3.0.0,>=2.13.0 in /usr/local/lib/python3.10/dist-packages (from rich<14.0,>=11.0->prefect) (2.16.1)\n",
            "Collecting ruamel.yaml.clib>=0.2.7 (from ruamel.yaml>=0.17.0->prefect)\n",
            "  Downloading ruamel.yaml.clib-0.2.8-cp310-cp310-manylinux_2_17_x86_64.manylinux2014_x86_64.manylinux_2_24_x86_64.whl (526 kB)\n",
            "\u001b[2K     \u001b[90m━━━━━━━━━━━━━━━━━━━━━━━━━━━━━━━━━━━━━━━━\u001b[0m \u001b[32m526.7/526.7 kB\u001b[0m \u001b[31m36.7 MB/s\u001b[0m eta \u001b[36m0:00:00\u001b[0m\n",
            "\u001b[?25hRequirement already satisfied: greenlet!=0.4.17 in /usr/local/lib/python3.10/dist-packages (from sqlalchemy[asyncio]!=1.4.33,<3.0.0,>=1.4.22->prefect) (3.0.3)\n",
            "Collecting shellingham>=1.3.0 (from typer!=0.12.2,<0.13.0,>=0.12.0->prefect)\n",
            "  Downloading shellingham-1.5.4-py2.py3-none-any.whl (9.8 kB)\n",
            "Requirement already satisfied: pycparser in /usr/local/lib/python3.10/dist-packages (from cffi>=1.12->cryptography>=36.0.1->prefect) (2.22)\n",
            "Collecting dnspython>=2.0.0 (from email-validator>=2.0.0->pydantic[email]!=2.0.0,!=2.0.1,!=2.1.0,<3.0.0,>=1.10.0->prefect)\n",
            "  Downloading dnspython-2.6.1-py3-none-any.whl (307 kB)\n",
            "\u001b[2K     \u001b[90m━━━━━━━━━━━━━━━━━━━━━━━━━━━━━━━━━━━━━━━━\u001b[0m \u001b[32m307.7/307.7 kB\u001b[0m \u001b[31m32.3 MB/s\u001b[0m eta \u001b[36m0:00:00\u001b[0m\n",
            "\u001b[?25hRequirement already satisfied: pyasn1-modules>=0.2.1 in /usr/local/lib/python3.10/dist-packages (from google-auth>=1.0.1->kubernetes<30.0.0,>=24.2.0->prefect) (0.4.0)\n",
            "Requirement already satisfied: rsa<5,>=3.1.4 in /usr/local/lib/python3.10/dist-packages (from google-auth>=1.0.1->kubernetes<30.0.0,>=24.2.0->prefect) (4.9)\n",
            "Collecting hyperframe<7,>=6.0 (from h2<5,>=3->httpx[http2]!=0.23.2,>=0.23->prefect)\n",
            "  Downloading hyperframe-6.0.1-py3-none-any.whl (12 kB)\n",
            "Collecting hpack<5,>=4.0 (from h2<5,>=3->httpx[http2]!=0.23.2,>=0.23->prefect)\n",
            "  Downloading hpack-4.0.0-py3-none-any.whl (32 kB)\n",
            "Requirement already satisfied: mdurl~=0.1 in /usr/local/lib/python3.10/dist-packages (from markdown-it-py>=2.2.0->rich<14.0,>=11.0->prefect) (0.1.2)\n",
            "Requirement already satisfied: charset-normalizer<4,>=2 in /usr/local/lib/python3.10/dist-packages (from requests->apprise<2.0.0,>=1.1.0->prefect) (3.3.2)\n",
            "Requirement already satisfied: pyasn1<0.7.0,>=0.4.6 in /usr/local/lib/python3.10/dist-packages (from pyasn1-modules>=0.2.1->google-auth>=1.0.1->kubernetes<30.0.0,>=24.2.0->prefect) (0.6.0)\n",
            "Building wheels for collected packages: pendulum\n",
            "  Building wheel for pendulum (pyproject.toml) ... \u001b[?25l\u001b[?25hdone\n",
            "  Created wheel for pendulum: filename=pendulum-2.1.2-cp310-cp310-manylinux_2_35_x86_64.whl size=158446 sha256=71608d30b8c6c2a3671a199263c090136ab299a992daa8ece17ce603fa263783\n",
            "  Stored in directory: /root/.cache/pip/wheels/2e/41/ed/f113e4c9dc10f6c846d69f412e9cd9aa429960a3e2e485a4f9\n",
            "Successfully built pendulum\n",
            "Installing collected packages: coolname, websockets, ujson, shellingham, ruamel.yaml.clib, rfc3339-validator, readchar, pytzdata, python-multipart, pathspec, orjson, Mako, jsonpointer, importlib-resources, hyperframe, humanize, hpack, h11, dnspython, colorama, asyncpg, asgi-lifespan, aiosqlite, uvicorn, ruamel.yaml, pendulum, jsonpatch, jinja2-humanize-extension, httpcore, h2, griffe, email-validator, docker, dateparser, croniter, alembic, typer, kubernetes, httpx, apprise, prefect\n",
            "  Attempting uninstall: importlib-resources\n",
            "    Found existing installation: importlib_resources 6.4.0\n",
            "    Uninstalling importlib_resources-6.4.0:\n",
            "      Successfully uninstalled importlib_resources-6.4.0\n",
            "  Attempting uninstall: humanize\n",
            "    Found existing installation: humanize 4.7.0\n",
            "    Uninstalling humanize-4.7.0:\n",
            "      Successfully uninstalled humanize-4.7.0\n",
            "  Attempting uninstall: typer\n",
            "    Found existing installation: typer 0.9.4\n",
            "    Uninstalling typer-0.9.4:\n",
            "      Successfully uninstalled typer-0.9.4\n",
            "\u001b[31mERROR: pip's dependency resolver does not currently take into account all the packages that are installed. This behaviour is the source of the following dependency conflicts.\n",
            "spacy 3.7.4 requires typer<0.10.0,>=0.3.0, but you have typer 0.12.3 which is incompatible.\n",
            "weasel 0.3.4 requires typer<0.10.0,>=0.3.0, but you have typer 0.12.3 which is incompatible.\u001b[0m\u001b[31m\n",
            "\u001b[0mSuccessfully installed Mako-1.3.3 aiosqlite-0.20.0 alembic-1.13.1 apprise-1.7.6 asgi-lifespan-2.1.0 asyncpg-0.29.0 colorama-0.4.6 coolname-2.2.0 croniter-2.0.5 dateparser-1.2.0 dnspython-2.6.1 docker-6.1.3 email-validator-2.1.1 griffe-0.44.0 h11-0.14.0 h2-4.1.0 hpack-4.0.0 httpcore-1.0.5 httpx-0.27.0 humanize-4.9.0 hyperframe-6.0.1 importlib-resources-6.1.3 jinja2-humanize-extension-0.4.0 jsonpatch-1.33 jsonpointer-2.4 kubernetes-29.0.0 orjson-3.10.1 pathspec-0.12.1 pendulum-2.1.2 prefect-2.18.1 python-multipart-0.0.9 pytzdata-2020.1 readchar-4.0.6 rfc3339-validator-0.1.4 ruamel.yaml-0.18.6 ruamel.yaml.clib-0.2.8 shellingham-1.5.4 typer-0.12.3 ujson-5.9.0 uvicorn-0.28.1 websockets-12.0\n"
          ]
        }
      ]
    },
    {
      "cell_type": "code",
      "source": [
        "from prefect import task, flow"
      ],
      "metadata": {
        "id": "G0IqnMh-5D5n"
      },
      "execution_count": 4,
      "outputs": []
    },
    {
      "cell_type": "code",
      "source": [
        "from sklearn import metrics"
      ],
      "metadata": {
        "id": "Tc7g0ZnBBiLs"
      },
      "execution_count": 18,
      "outputs": []
    },
    {
      "cell_type": "code",
      "source": [
        "@task\n",
        "def load_data(file_path):\n",
        "    \"\"\"\n",
        "    Load data from a CSV file.\n",
        "    \"\"\"\n",
        "    return pd.read_csv(file_path)\n",
        "\n",
        "\n",
        "@task\n",
        "def split_inputs_output(data, inputs, output):\n",
        "    \"\"\"\n",
        "    Split features and target variables.\n",
        "    \"\"\"\n",
        "    X = data[inputs]\n",
        "    y = data[output]\n",
        "    return X, y\n",
        "\n",
        "\n",
        "@task\n",
        "def split_train_test(X, y, test_size=0.25, random_state=0):\n",
        "    \"\"\"\n",
        "    Split data into train and test sets.\n",
        "    \"\"\"\n",
        "    return train_test_split(X, y, test_size=test_size, random_state=random_state)\n",
        "\n",
        "\n",
        "@task\n",
        "def preprocess_data(X_train, X_test, y_train, y_test):\n",
        "    \"\"\"\n",
        "    Rescale the data.\n",
        "    \"\"\"\n",
        "    vocab = CountVectorizer()\n",
        "    X_train_num = vocab.fit_transform(X_train)\n",
        "    X_test_num = vocab.transform(X_test)\n",
        "    return X_train_num, X_test_num, y_train, y_test\n",
        "\n",
        "\n",
        "@task\n",
        "def train_model(X_train_num, y_train, hyperparameters):\n",
        "    \"\"\"\n",
        "    Training the machine learning model.\n",
        "    \"\"\"\n",
        "    clf = MultinomialNB()\n",
        "    clf.fit(X_train_num, y_train)\n",
        "    return clf\n",
        "\n",
        "\n",
        "@task\n",
        "def evaluate_model(model, X_train_num, y_train, X_test_num, y_test):\n",
        "    \"\"\"\n",
        "    Evaluating the model.\n",
        "    \"\"\"\n",
        "    y_train_pred = model.predict(X_train_num)\n",
        "    y_test_pred = model.predict(X_test_num)\n",
        "\n",
        "    train_score = metrics.accuracy_score(y_train, y_train_pred)\n",
        "    test_score = metrics.accuracy_score(y_test, y_test_pred)\n",
        "\n",
        "    return train_score, test_score"
      ],
      "metadata": {
        "id": "3S7S_YTa5D8a"
      },
      "execution_count": 19,
      "outputs": []
    },
    {
      "cell_type": "code",
      "source": [
        "# Workflow\n",
        "\n",
        "@flow(name=\"Naivebayes Training Flow\")\n",
        "def workflow():\n",
        "    DATA_PATH = \"/content/my_data.csv\"\n",
        "    INPUTS = 'Review text'\n",
        "    OUTPUT = 'Sentiment'\n",
        "    HYPERPARAMETERS = {'vectorization': [CountVectorizer()]}\n",
        "\n",
        "    # Load data\n",
        "    iris = load_data(DATA_PATH)\n",
        "\n",
        "    # Identify Inputs and Output\n",
        "    X, y = split_inputs_output(iris, INPUTS, OUTPUT)\n",
        "\n",
        "    # Split data into train and test sets\n",
        "    X_train, X_test, y_train, y_test = split_train_test(X, y)\n",
        "\n",
        "    # Preprocess the data\n",
        "    X_train_num, X_test_num, y_train, y_test = preprocess_data(X_train, X_test, y_train, y_test)\n",
        "\n",
        "    # Build a model\n",
        "    model = train_model(X_train_num, y_train, HYPERPARAMETERS)\n",
        "\n",
        "    # Evaluation\n",
        "    train_score, test_score = evaluate_model(model, X_train_num, y_train, X_test_num, y_test)\n",
        "\n",
        "    print(\"Train Score:\", train_score)\n",
        "    print(\"Test Score:\", test_score)"
      ],
      "metadata": {
        "id": "FRpt8RMg5D-s"
      },
      "execution_count": 20,
      "outputs": []
    },
    {
      "cell_type": "code",
      "source": [
        "if __name__ == \"__main__\":\n",
        "    workflow()"
      ],
      "metadata": {
        "colab": {
          "base_uri": "https://localhost:8080/",
          "height": 372
        },
        "id": "9-95mzwD5EDy",
        "outputId": "802a935a-f4fc-4e7d-f0ef-4a2e1dbb8c16"
      },
      "execution_count": 21,
      "outputs": [
        {
          "output_type": "display_data",
          "data": {
            "text/plain": [
              "10:49:54.131 | \u001b[36mINFO\u001b[0m    | prefect.engine - Created flow run\u001b[35m 'talented-swine'\u001b[0m for flow\u001b[1;35m 'Naivebayes Training Flow'\u001b[0m\n"
            ],
            "text/html": [
              "<pre style=\"white-space:pre;overflow-x:auto;line-height:normal;font-family:Menlo,'DejaVu Sans Mono',consolas,'Courier New',monospace\">10:49:54.131 | <span style=\"color: #008080; text-decoration-color: #008080\">INFO</span>    | prefect.engine - Created flow run<span style=\"color: #800080; text-decoration-color: #800080\"> 'talented-swine'</span> for flow<span style=\"color: #800080; text-decoration-color: #800080; font-weight: bold\"> 'Naivebayes Training Flow'</span>\n",
              "</pre>\n"
            ]
          },
          "metadata": {}
        },
        {
          "output_type": "display_data",
          "data": {
            "text/plain": [
              "10:49:54.301 | \u001b[36mINFO\u001b[0m    | Flow run\u001b[35m 'talented-swine'\u001b[0m - Created task run 'load_data-0' for task 'load_data'\n"
            ],
            "text/html": [
              "<pre style=\"white-space:pre;overflow-x:auto;line-height:normal;font-family:Menlo,'DejaVu Sans Mono',consolas,'Courier New',monospace\">10:49:54.301 | <span style=\"color: #008080; text-decoration-color: #008080\">INFO</span>    | Flow run<span style=\"color: #800080; text-decoration-color: #800080\"> 'talented-swine'</span> - Created task run 'load_data-0' for task 'load_data'\n",
              "</pre>\n"
            ]
          },
          "metadata": {}
        },
        {
          "output_type": "display_data",
          "data": {
            "text/plain": [
              "10:49:54.305 | \u001b[36mINFO\u001b[0m    | Flow run\u001b[35m 'talented-swine'\u001b[0m - Executing 'load_data-0' immediately...\n"
            ],
            "text/html": [
              "<pre style=\"white-space:pre;overflow-x:auto;line-height:normal;font-family:Menlo,'DejaVu Sans Mono',consolas,'Courier New',monospace\">10:49:54.305 | <span style=\"color: #008080; text-decoration-color: #008080\">INFO</span>    | Flow run<span style=\"color: #800080; text-decoration-color: #800080\"> 'talented-swine'</span> - Executing 'load_data-0' immediately...\n",
              "</pre>\n"
            ]
          },
          "metadata": {}
        },
        {
          "output_type": "display_data",
          "data": {
            "text/plain": [
              "10:49:54.512 | \u001b[36mINFO\u001b[0m    | Task run 'load_data-0' - Finished in state \u001b[32mCompleted\u001b[0m()\n"
            ],
            "text/html": [
              "<pre style=\"white-space:pre;overflow-x:auto;line-height:normal;font-family:Menlo,'DejaVu Sans Mono',consolas,'Courier New',monospace\">10:49:54.512 | <span style=\"color: #008080; text-decoration-color: #008080\">INFO</span>    | Task run 'load_data-0' - Finished in state <span style=\"color: #008000; text-decoration-color: #008000\">Completed</span>()\n",
              "</pre>\n"
            ]
          },
          "metadata": {}
        },
        {
          "output_type": "display_data",
          "data": {
            "text/plain": [
              "10:49:54.575 | \u001b[36mINFO\u001b[0m    | Flow run\u001b[35m 'talented-swine'\u001b[0m - Created task run 'split_inputs_output-0' for task 'split_inputs_output'\n"
            ],
            "text/html": [
              "<pre style=\"white-space:pre;overflow-x:auto;line-height:normal;font-family:Menlo,'DejaVu Sans Mono',consolas,'Courier New',monospace\">10:49:54.575 | <span style=\"color: #008080; text-decoration-color: #008080\">INFO</span>    | Flow run<span style=\"color: #800080; text-decoration-color: #800080\"> 'talented-swine'</span> - Created task run 'split_inputs_output-0' for task 'split_inputs_output'\n",
              "</pre>\n"
            ]
          },
          "metadata": {}
        },
        {
          "output_type": "display_data",
          "data": {
            "text/plain": [
              "10:49:54.579 | \u001b[36mINFO\u001b[0m    | Flow run\u001b[35m 'talented-swine'\u001b[0m - Executing 'split_inputs_output-0' immediately...\n"
            ],
            "text/html": [
              "<pre style=\"white-space:pre;overflow-x:auto;line-height:normal;font-family:Menlo,'DejaVu Sans Mono',consolas,'Courier New',monospace\">10:49:54.579 | <span style=\"color: #008080; text-decoration-color: #008080\">INFO</span>    | Flow run<span style=\"color: #800080; text-decoration-color: #800080\"> 'talented-swine'</span> - Executing 'split_inputs_output-0' immediately...\n",
              "</pre>\n"
            ]
          },
          "metadata": {}
        },
        {
          "output_type": "display_data",
          "data": {
            "text/plain": [
              "10:49:54.873 | \u001b[36mINFO\u001b[0m    | Task run 'split_inputs_output-0' - Finished in state \u001b[32mCompleted\u001b[0m()\n"
            ],
            "text/html": [
              "<pre style=\"white-space:pre;overflow-x:auto;line-height:normal;font-family:Menlo,'DejaVu Sans Mono',consolas,'Courier New',monospace\">10:49:54.873 | <span style=\"color: #008080; text-decoration-color: #008080\">INFO</span>    | Task run 'split_inputs_output-0' - Finished in state <span style=\"color: #008000; text-decoration-color: #008000\">Completed</span>()\n",
              "</pre>\n"
            ]
          },
          "metadata": {}
        },
        {
          "output_type": "display_data",
          "data": {
            "text/plain": [
              "10:49:55.040 | \u001b[36mINFO\u001b[0m    | Flow run\u001b[35m 'talented-swine'\u001b[0m - Created task run 'split_train_test-0' for task 'split_train_test'\n"
            ],
            "text/html": [
              "<pre style=\"white-space:pre;overflow-x:auto;line-height:normal;font-family:Menlo,'DejaVu Sans Mono',consolas,'Courier New',monospace\">10:49:55.040 | <span style=\"color: #008080; text-decoration-color: #008080\">INFO</span>    | Flow run<span style=\"color: #800080; text-decoration-color: #800080\"> 'talented-swine'</span> - Created task run 'split_train_test-0' for task 'split_train_test'\n",
              "</pre>\n"
            ]
          },
          "metadata": {}
        },
        {
          "output_type": "display_data",
          "data": {
            "text/plain": [
              "10:49:55.061 | \u001b[36mINFO\u001b[0m    | Flow run\u001b[35m 'talented-swine'\u001b[0m - Executing 'split_train_test-0' immediately...\n"
            ],
            "text/html": [
              "<pre style=\"white-space:pre;overflow-x:auto;line-height:normal;font-family:Menlo,'DejaVu Sans Mono',consolas,'Courier New',monospace\">10:49:55.061 | <span style=\"color: #008080; text-decoration-color: #008080\">INFO</span>    | Flow run<span style=\"color: #800080; text-decoration-color: #800080\"> 'talented-swine'</span> - Executing 'split_train_test-0' immediately...\n",
              "</pre>\n"
            ]
          },
          "metadata": {}
        },
        {
          "output_type": "display_data",
          "data": {
            "text/plain": [
              "10:49:55.321 | \u001b[36mINFO\u001b[0m    | Task run 'split_train_test-0' - Finished in state \u001b[32mCompleted\u001b[0m()\n"
            ],
            "text/html": [
              "<pre style=\"white-space:pre;overflow-x:auto;line-height:normal;font-family:Menlo,'DejaVu Sans Mono',consolas,'Courier New',monospace\">10:49:55.321 | <span style=\"color: #008080; text-decoration-color: #008080\">INFO</span>    | Task run 'split_train_test-0' - Finished in state <span style=\"color: #008000; text-decoration-color: #008000\">Completed</span>()\n",
              "</pre>\n"
            ]
          },
          "metadata": {}
        },
        {
          "output_type": "display_data",
          "data": {
            "text/plain": [
              "10:49:55.384 | \u001b[36mINFO\u001b[0m    | Flow run\u001b[35m 'talented-swine'\u001b[0m - Created task run 'preprocess_data-0' for task 'preprocess_data'\n"
            ],
            "text/html": [
              "<pre style=\"white-space:pre;overflow-x:auto;line-height:normal;font-family:Menlo,'DejaVu Sans Mono',consolas,'Courier New',monospace\">10:49:55.384 | <span style=\"color: #008080; text-decoration-color: #008080\">INFO</span>    | Flow run<span style=\"color: #800080; text-decoration-color: #800080\"> 'talented-swine'</span> - Created task run 'preprocess_data-0' for task 'preprocess_data'\n",
              "</pre>\n"
            ]
          },
          "metadata": {}
        },
        {
          "output_type": "display_data",
          "data": {
            "text/plain": [
              "10:49:55.390 | \u001b[36mINFO\u001b[0m    | Flow run\u001b[35m 'talented-swine'\u001b[0m - Executing 'preprocess_data-0' immediately...\n"
            ],
            "text/html": [
              "<pre style=\"white-space:pre;overflow-x:auto;line-height:normal;font-family:Menlo,'DejaVu Sans Mono',consolas,'Courier New',monospace\">10:49:55.390 | <span style=\"color: #008080; text-decoration-color: #008080\">INFO</span>    | Flow run<span style=\"color: #800080; text-decoration-color: #800080\"> 'talented-swine'</span> - Executing 'preprocess_data-0' immediately...\n",
              "</pre>\n"
            ]
          },
          "metadata": {}
        },
        {
          "output_type": "display_data",
          "data": {
            "text/plain": [
              "10:49:55.596 | \u001b[36mINFO\u001b[0m    | Task run 'preprocess_data-0' - Finished in state \u001b[32mCompleted\u001b[0m()\n"
            ],
            "text/html": [
              "<pre style=\"white-space:pre;overflow-x:auto;line-height:normal;font-family:Menlo,'DejaVu Sans Mono',consolas,'Courier New',monospace\">10:49:55.596 | <span style=\"color: #008080; text-decoration-color: #008080\">INFO</span>    | Task run 'preprocess_data-0' - Finished in state <span style=\"color: #008000; text-decoration-color: #008000\">Completed</span>()\n",
              "</pre>\n"
            ]
          },
          "metadata": {}
        },
        {
          "output_type": "display_data",
          "data": {
            "text/plain": [
              "10:49:55.651 | \u001b[36mINFO\u001b[0m    | Flow run\u001b[35m 'talented-swine'\u001b[0m - Created task run 'train_model-0' for task 'train_model'\n"
            ],
            "text/html": [
              "<pre style=\"white-space:pre;overflow-x:auto;line-height:normal;font-family:Menlo,'DejaVu Sans Mono',consolas,'Courier New',monospace\">10:49:55.651 | <span style=\"color: #008080; text-decoration-color: #008080\">INFO</span>    | Flow run<span style=\"color: #800080; text-decoration-color: #800080\"> 'talented-swine'</span> - Created task run 'train_model-0' for task 'train_model'\n",
              "</pre>\n"
            ]
          },
          "metadata": {}
        },
        {
          "output_type": "display_data",
          "data": {
            "text/plain": [
              "10:49:55.655 | \u001b[36mINFO\u001b[0m    | Flow run\u001b[35m 'talented-swine'\u001b[0m - Executing 'train_model-0' immediately...\n"
            ],
            "text/html": [
              "<pre style=\"white-space:pre;overflow-x:auto;line-height:normal;font-family:Menlo,'DejaVu Sans Mono',consolas,'Courier New',monospace\">10:49:55.655 | <span style=\"color: #008080; text-decoration-color: #008080\">INFO</span>    | Flow run<span style=\"color: #800080; text-decoration-color: #800080\"> 'talented-swine'</span> - Executing 'train_model-0' immediately...\n",
              "</pre>\n"
            ]
          },
          "metadata": {}
        },
        {
          "output_type": "display_data",
          "data": {
            "text/plain": [
              "10:49:55.796 | \u001b[36mINFO\u001b[0m    | Task run 'train_model-0' - Finished in state \u001b[32mCompleted\u001b[0m()\n"
            ],
            "text/html": [
              "<pre style=\"white-space:pre;overflow-x:auto;line-height:normal;font-family:Menlo,'DejaVu Sans Mono',consolas,'Courier New',monospace\">10:49:55.796 | <span style=\"color: #008080; text-decoration-color: #008080\">INFO</span>    | Task run 'train_model-0' - Finished in state <span style=\"color: #008000; text-decoration-color: #008000\">Completed</span>()\n",
              "</pre>\n"
            ]
          },
          "metadata": {}
        },
        {
          "output_type": "display_data",
          "data": {
            "text/plain": [
              "10:49:55.853 | \u001b[36mINFO\u001b[0m    | Flow run\u001b[35m 'talented-swine'\u001b[0m - Created task run 'evaluate_model-0' for task 'evaluate_model'\n"
            ],
            "text/html": [
              "<pre style=\"white-space:pre;overflow-x:auto;line-height:normal;font-family:Menlo,'DejaVu Sans Mono',consolas,'Courier New',monospace\">10:49:55.853 | <span style=\"color: #008080; text-decoration-color: #008080\">INFO</span>    | Flow run<span style=\"color: #800080; text-decoration-color: #800080\"> 'talented-swine'</span> - Created task run 'evaluate_model-0' for task 'evaluate_model'\n",
              "</pre>\n"
            ]
          },
          "metadata": {}
        },
        {
          "output_type": "display_data",
          "data": {
            "text/plain": [
              "10:49:55.858 | \u001b[36mINFO\u001b[0m    | Flow run\u001b[35m 'talented-swine'\u001b[0m - Executing 'evaluate_model-0' immediately...\n"
            ],
            "text/html": [
              "<pre style=\"white-space:pre;overflow-x:auto;line-height:normal;font-family:Menlo,'DejaVu Sans Mono',consolas,'Courier New',monospace\">10:49:55.858 | <span style=\"color: #008080; text-decoration-color: #008080\">INFO</span>    | Flow run<span style=\"color: #800080; text-decoration-color: #800080\"> 'talented-swine'</span> - Executing 'evaluate_model-0' immediately...\n",
              "</pre>\n"
            ]
          },
          "metadata": {}
        },
        {
          "output_type": "display_data",
          "data": {
            "text/plain": [
              "10:49:56.030 | \u001b[36mINFO\u001b[0m    | Task run 'evaluate_model-0' - Finished in state \u001b[32mCompleted\u001b[0m()\n"
            ],
            "text/html": [
              "<pre style=\"white-space:pre;overflow-x:auto;line-height:normal;font-family:Menlo,'DejaVu Sans Mono',consolas,'Courier New',monospace\">10:49:56.030 | <span style=\"color: #008080; text-decoration-color: #008080\">INFO</span>    | Task run 'evaluate_model-0' - Finished in state <span style=\"color: #008000; text-decoration-color: #008000\">Completed</span>()\n",
              "</pre>\n"
            ]
          },
          "metadata": {}
        },
        {
          "output_type": "stream",
          "name": "stdout",
          "text": [
            "Train Score: 0.9505652100556774\n",
            "Test Score: 0.930161943319838\n"
          ]
        },
        {
          "output_type": "display_data",
          "data": {
            "text/plain": [
              "10:49:56.114 | \u001b[36mINFO\u001b[0m    | Flow run\u001b[35m 'talented-swine'\u001b[0m - Finished in state \u001b[32mCompleted\u001b[0m('All states completed.')\n"
            ],
            "text/html": [
              "<pre style=\"white-space:pre;overflow-x:auto;line-height:normal;font-family:Menlo,'DejaVu Sans Mono',consolas,'Courier New',monospace\">10:49:56.114 | <span style=\"color: #008080; text-decoration-color: #008080\">INFO</span>    | Flow run<span style=\"color: #800080; text-decoration-color: #800080\"> 'talented-swine'</span> - Finished in state <span style=\"color: #008000; text-decoration-color: #008000\">Completed</span>('All states completed.')\n",
              "</pre>\n"
            ]
          },
          "metadata": {}
        }
      ]
    },
    {
      "cell_type": "code",
      "source": [],
      "metadata": {
        "id": "GVkskeRK5EGP"
      },
      "execution_count": null,
      "outputs": []
    },
    {
      "cell_type": "code",
      "source": [],
      "metadata": {
        "id": "mlA--joS5ELG"
      },
      "execution_count": null,
      "outputs": []
    },
    {
      "cell_type": "code",
      "source": [],
      "metadata": {
        "id": "RmbN86-N5EP2"
      },
      "execution_count": null,
      "outputs": []
    }
  ]
}